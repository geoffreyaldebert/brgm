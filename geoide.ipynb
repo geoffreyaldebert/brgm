{
 "cells": [
  {
   "cell_type": "code",
   "execution_count": 1,
   "id": "6a9fa246",
   "metadata": {},
   "outputs": [],
   "source": [
    "import pandas as pd"
   ]
  },
  {
   "cell_type": "code",
   "execution_count": 25,
   "id": "51b2e20b",
   "metadata": {},
   "outputs": [
    {
     "data": {
      "text/html": [
       "<div>\n",
       "<style scoped>\n",
       "    .dataframe tbody tr th:only-of-type {\n",
       "        vertical-align: middle;\n",
       "    }\n",
       "\n",
       "    .dataframe tbody tr th {\n",
       "        vertical-align: top;\n",
       "    }\n",
       "\n",
       "    .dataframe thead th {\n",
       "        text-align: right;\n",
       "    }\n",
       "</style>\n",
       "<table border=\"1\" class=\"dataframe\">\n",
       "  <thead>\n",
       "    <tr style=\"text-align: right;\">\n",
       "      <th></th>\n",
       "      <th>producteur</th>\n",
       "      <th>dgv_match_name</th>\n",
       "      <th>nb_MD</th>\n",
       "      <th>geoide_slug</th>\n",
       "      <th>dgv_match_id</th>\n",
       "      <th>URL DCAT</th>\n",
       "    </tr>\n",
       "  </thead>\n",
       "  <tbody>\n",
       "    <tr>\n",
       "      <th>13</th>\n",
       "      <td>DDT 12 (Direction Départementale des Territoir...</td>\n",
       "      <td>DDT Aveyron</td>\n",
       "      <td>344</td>\n",
       "      <td>ddt 12 direction departementale territoires av...</td>\n",
       "      <td>58adbc9c88ee382998837258</td>\n",
       "      <td>http://www.geocatalogue.fr/www/dcat/8f8177d47c...</td>\n",
       "    </tr>\n",
       "    <tr>\n",
       "      <th>18</th>\n",
       "      <td>DDT 21 (Direction Départementale des Territoir...</td>\n",
       "      <td>DDT Côte-d'Or</td>\n",
       "      <td>1952</td>\n",
       "      <td>ddt 21 direction departementale territoires la...</td>\n",
       "      <td>58aec19a88ee385837ea9abe</td>\n",
       "      <td>http://www.geocatalogue.fr/www/dcat/8f8177d47c...</td>\n",
       "    </tr>\n",
       "  </tbody>\n",
       "</table>\n",
       "</div>"
      ],
      "text/plain": [
       "                                           producteur dgv_match_name  nb_MD  \\\n",
       "13  DDT 12 (Direction Départementale des Territoir...    DDT Aveyron    344   \n",
       "18  DDT 21 (Direction Départementale des Territoir...  DDT Côte-d'Or   1952   \n",
       "\n",
       "                                          geoide_slug  \\\n",
       "13  ddt 12 direction departementale territoires av...   \n",
       "18  ddt 21 direction departementale territoires la...   \n",
       "\n",
       "                dgv_match_id  \\\n",
       "13  58adbc9c88ee382998837258   \n",
       "18  58aec19a88ee385837ea9abe   \n",
       "\n",
       "                                             URL DCAT  \n",
       "13  http://www.geocatalogue.fr/www/dcat/8f8177d47c...  \n",
       "18  http://www.geocatalogue.fr/www/dcat/8f8177d47c...  "
      ]
     },
     "execution_count": 25,
     "metadata": {},
     "output_type": "execute_result"
    }
   ],
   "source": [
    "df = pd.read_csv(\"geo-ide_dgv.csv\", sep=\";\", encoding=\"latin-1\")\n",
    "df = df[df[\"dgv_match_id\"].notnull()]\n",
    "df[df.duplicated(subset=\"URL DCAT\")]"
   ]
  },
  {
   "cell_type": "code",
   "execution_count": 28,
   "id": "da86155b",
   "metadata": {},
   "outputs": [
    {
     "ename": "AssertionError",
     "evalue": "",
     "output_type": "error",
     "traceback": [
      "\u001b[0;31m---------------------------------------------------------------------------\u001b[0m",
      "\u001b[0;31mAssertionError\u001b[0m                            Traceback (most recent call last)",
      "Input \u001b[0;32mIn [28]\u001b[0m, in \u001b[0;36m<module>\u001b[0;34m\u001b[0m\n\u001b[1;32m      1\u001b[0m \u001b[38;5;66;03m# FIXME\u001b[39;00m\n\u001b[0;32m----> 2\u001b[0m \u001b[38;5;28;01massert\u001b[39;00m \u001b[38;5;129;01mnot\u001b[39;00m df\u001b[38;5;241m.\u001b[39mduplicated(subset\u001b[38;5;241m=\u001b[39m\u001b[38;5;124m\"\u001b[39m\u001b[38;5;124mURL DCAT\u001b[39m\u001b[38;5;124m\"\u001b[39m)\u001b[38;5;241m.\u001b[39many()\n",
      "\u001b[0;31mAssertionError\u001b[0m: "
     ]
    }
   ],
   "source": [
    "# FIXME\n",
    "assert not df.duplicated(subset=\"URL DCAT\").any()"
   ]
  },
  {
   "cell_type": "code",
   "execution_count": 74,
   "id": "af3ca0d3",
   "metadata": {},
   "outputs": [],
   "source": [
    "import os\n",
    "import requests\n",
    "\n",
    "URL = \"https://demo.data.gouv.fr/api/1/harvest\"\n",
    "auth = {\n",
    "    \"x-api-key\": os.getenv(\"DATAGOUV_TOKEN\")\n",
    "}\n",
    "\n",
    "def create_harvester(name, org_id, dcat_url):\n",
    "    r = requests.post(f\"{URL}/sources/\", json={\n",
    "       \"active\": True,\n",
    "       \"autoarchive\": True,\n",
    "       \"backend\": \"dcat\",\n",
    "       \"config\":{},\n",
    "       \"name\": f\"[geocatalogue] {name}\",\n",
    "       \"organization\":{\n",
    "          \"id\": org_id,\n",
    "       },\n",
    "       \"url\": dcat_url,\n",
    "    }, headers=auth)\n",
    "    if not r.ok:\n",
    "        print(f\"[ERROR] create harvester for {org_id}: {r.json()}\")\n",
    "        return\n",
    "    data = r.json()\n",
    "    harvester_id = data[\"id\"]\n",
    "    harvester_url = f\"{URL}/source/{harvester_id}\"\n",
    "    r = requests.get(f\"{harvester_url}/preview\", headers=auth)\n",
    "    if not r.ok:\n",
    "        print(f\"[ERROR] preview harvester for {org_id}: {r.text}\")\n",
    "        return\n",
    "    data = r.json()\n",
    "    if data[\"status\"] == \"failed\":\n",
    "        print(f\"[ERROR] preview failed for org: {org_id}, harvester: {harvester_id}\")\n",
    "        return\n",
    "    r = requests.post(f\"{harvester_url}/validate\", json={\"state\":\"accepted\", \"comment\": None}, headers=auth)\n",
    "    if not r.ok:\n",
    "        print(f\"[ERROR] validate harvester for org: {org_id}, harvester: {harvester_id}, res: {r.text}\")\n",
    "        return\n",
    "    print(f\"[SUCCESS] org: {org_id}, harvester: {harvester_id}\")"
   ]
  },
  {
   "cell_type": "code",
   "execution_count": 75,
   "id": "dd9cd9fd",
   "metadata": {},
   "outputs": [
    {
     "name": "stdout",
     "output_type": "stream",
     "text": [
      "[SUCCESS] org: 534fff75a3a7292c64a77de4, harvester: 62bd53e268aba082731db0da\n"
     ]
    }
   ],
   "source": [
    "create_harvester(\"6\", \"534fff75a3a7292c64a77de4\", \"http://www.geocatalogue.fr/www/dcat/ec6481bf34fa43b527cb2424b2476bd3/catalog.rdf\")"
   ]
  },
  {
   "cell_type": "code",
   "execution_count": null,
   "id": "0e40d20a",
   "metadata": {},
   "outputs": [],
   "source": []
  }
 ],
 "metadata": {
  "kernelspec": {
   "display_name": "Python 3 (ipykernel)",
   "language": "python",
   "name": "python3"
  },
  "language_info": {
   "codemirror_mode": {
    "name": "ipython",
    "version": 3
   },
   "file_extension": ".py",
   "mimetype": "text/x-python",
   "name": "python",
   "nbconvert_exporter": "python",
   "pygments_lexer": "ipython3",
   "version": "3.9.10"
  }
 },
 "nbformat": 4,
 "nbformat_minor": 5
}
