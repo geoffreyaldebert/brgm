{
 "cells": [
  {
   "cell_type": "code",
   "execution_count": 1,
   "id": "29c3d93d",
   "metadata": {},
   "outputs": [],
   "source": [
    "import pandas as pd"
   ]
  },
  {
   "cell_type": "code",
   "execution_count": 17,
   "id": "eb8e9738",
   "metadata": {},
   "outputs": [
    {
     "data": {
      "text/plain": [
       "(4027, 15174)"
      ]
     },
     "execution_count": 17,
     "metadata": {},
     "output_type": "execute_result"
    }
   ],
   "source": [
    "oldies = pd.read_csv('oldies.csv')\n",
    "geop = pd.read_csv('geop.csv')\n",
    "len(oldies), len(geop)"
   ]
  },
  {
   "cell_type": "code",
   "execution_count": 14,
   "id": "412dab7c",
   "metadata": {},
   "outputs": [],
   "source": [
    "oldies = oldies[~oldies.extras.str.contains('harvest:source_id')]"
   ]
  },
  {
   "cell_type": "code",
   "execution_count": 5,
   "id": "87a521fb",
   "metadata": {},
   "outputs": [],
   "source": [
    "url = 'https://static.data.gouv.fr/resources/catalogue-des-donnees-de-data-gouv-fr/20220422-074537/export-dataset-20220422-074537.csv'\n",
    "datasets = pd.read_csv(url, delimiter=';')"
   ]
  },
  {
   "cell_type": "code",
   "execution_count": 15,
   "id": "afc7621f",
   "metadata": {},
   "outputs": [],
   "source": [
    "oldies_merged = oldies.merge(datasets, on='id')\n",
    "geop_merged = geop.merge(datasets, on='id')"
   ]
  },
  {
   "cell_type": "code",
   "execution_count": 16,
   "id": "f185fc80",
   "metadata": {},
   "outputs": [],
   "source": [
    "oldies_merged.to_csv('oldies_merged.csv')\n",
    "geop_merged.to_csv('geop_merged.csv')"
   ]
  },
  {
   "cell_type": "code",
   "execution_count": null,
   "id": "a232bab0",
   "metadata": {},
   "outputs": [],
   "source": []
  }
 ],
 "metadata": {
  "kernelspec": {
   "display_name": "Python 3 (ipykernel)",
   "language": "python",
   "name": "python3"
  },
  "language_info": {
   "codemirror_mode": {
    "name": "ipython",
    "version": 3
   },
   "file_extension": ".py",
   "mimetype": "text/x-python",
   "name": "python",
   "nbconvert_exporter": "python",
   "pygments_lexer": "ipython3",
   "version": "3.9.10"
  }
 },
 "nbformat": 4,
 "nbformat_minor": 5
}
