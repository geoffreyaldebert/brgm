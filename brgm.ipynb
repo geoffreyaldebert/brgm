{
 "cells": [
  {
   "cell_type": "code",
   "execution_count": 4,
   "metadata": {},
   "outputs": [
    {
     "name": "stderr",
     "output_type": "stream",
     "text": [
      "<ipython-input-4-a6c9beac1ab0>:7: FutureWarning: Passing a negative integer is deprecated in version 1.0 and will not be supported in future version. Instead, use None to not limit the column width.\n",
      "  pd.set_option('display.max_colwidth', -1)\n"
     ]
    }
   ],
   "source": [
    "import os\n",
    "import json\n",
    "import pandas as pd\n",
    "import requests\n",
    "pd.options.display.max_rows = 200\n",
    "pd.options.display.max_columns = 100\n",
    "pd.set_option('display.max_colwidth', -1)"
   ]
  },
  {
   "cell_type": "code",
   "execution_count": 5,
   "metadata": {},
   "outputs": [],
   "source": [
    "def getDataframe(filename):\n",
    "    arr = []\n",
    "    with open('./data/' + filename) as out:\n",
    "        for line in out:\n",
    "            j_content = json.loads(line)\n",
    "            arr.append(j_content)\n",
    "    df = pd.DataFrame(arr)\n",
    "    return df"
   ]
  },
  {
   "cell_type": "code",
   "execution_count": 6,
   "metadata": {},
   "outputs": [],
   "source": [
    "def mongoIdToId(value):\n",
    "    return dict(value)[\"$oid\"]"
   ]
  },
  {
   "cell_type": "code",
   "execution_count": 7,
   "metadata": {},
   "outputs": [
    {
     "data": {
      "text/html": [
       "<div>\n",
       "<style scoped>\n",
       "    .dataframe tbody tr th:only-of-type {\n",
       "        vertical-align: middle;\n",
       "    }\n",
       "\n",
       "    .dataframe tbody tr th {\n",
       "        vertical-align: top;\n",
       "    }\n",
       "\n",
       "    .dataframe thead th {\n",
       "        text-align: right;\n",
       "    }\n",
       "</style>\n",
       "<table border=\"1\" class=\"dataframe\">\n",
       "  <thead>\n",
       "    <tr style=\"text-align: right;\">\n",
       "      <th></th>\n",
       "      <th>_id</th>\n",
       "      <th>associatedTo</th>\n",
       "      <th>__v</th>\n",
       "      <th>organization_id</th>\n",
       "    </tr>\n",
       "  </thead>\n",
       "  <tbody>\n",
       "    <tr>\n",
       "      <th>0</th>\n",
       "      <td>AFB</td>\n",
       "      <td>{'$oid': '534fffb2a3a7292c64a78123'}</td>\n",
       "      <td>0.0</td>\n",
       "      <td>534fffb2a3a7292c64a78123</td>\n",
       "    </tr>\n",
       "    <tr>\n",
       "      <th>1</th>\n",
       "      <td>AFB - DR Nouvelle-Aquitaine</td>\n",
       "      <td>{'$oid': '534fffb2a3a7292c64a78123'}</td>\n",
       "      <td>0.0</td>\n",
       "      <td>534fffb2a3a7292c64a78123</td>\n",
       "    </tr>\n",
       "    <tr>\n",
       "      <th>2</th>\n",
       "      <td>ALTOA</td>\n",
       "      <td>{'$oid': '580fb83a88ee38771813e4cb'}</td>\n",
       "      <td>NaN</td>\n",
       "      <td>580fb83a88ee38771813e4cb</td>\n",
       "    </tr>\n",
       "    <tr>\n",
       "      <th>3</th>\n",
       "      <td>ANFR</td>\n",
       "      <td>{'$oid': '54256fe588ee380af6717348'}</td>\n",
       "      <td>NaN</td>\n",
       "      <td>54256fe588ee380af6717348</td>\n",
       "    </tr>\n",
       "    <tr>\n",
       "      <th>4</th>\n",
       "      <td>ARS</td>\n",
       "      <td>{'$oid': '534fffb2a3a7292c64a78123'}</td>\n",
       "      <td>0.0</td>\n",
       "      <td>534fffb2a3a7292c64a78123</td>\n",
       "    </tr>\n",
       "  </tbody>\n",
       "</table>\n",
       "</div>"
      ],
      "text/plain": [
       "                           _id                          associatedTo  __v  \\\n",
       "0  AFB                          {'$oid': '534fffb2a3a7292c64a78123'}  0.0   \n",
       "1  AFB - DR Nouvelle-Aquitaine  {'$oid': '534fffb2a3a7292c64a78123'}  0.0   \n",
       "2  ALTOA                        {'$oid': '580fb83a88ee38771813e4cb'} NaN    \n",
       "3  ANFR                         {'$oid': '54256fe588ee380af6717348'} NaN    \n",
       "4  ARS                          {'$oid': '534fffb2a3a7292c64a78123'}  0.0   \n",
       "\n",
       "            organization_id  \n",
       "0  534fffb2a3a7292c64a78123  \n",
       "1  534fffb2a3a7292c64a78123  \n",
       "2  580fb83a88ee38771813e4cb  \n",
       "3  54256fe588ee380af6717348  \n",
       "4  534fffb2a3a7292c64a78123  "
      ]
     },
     "execution_count": 7,
     "metadata": {},
     "output_type": "execute_result"
    }
   ],
   "source": [
    "producers = getDataframe('producers.json')\n",
    "producers[\"organization_id\"] = producers[\"associatedTo\"].apply(mongoIdToId)\n",
    "producers.head()"
   ]
  },
  {
   "cell_type": "code",
   "execution_count": 8,
   "metadata": {},
   "outputs": [
    {
     "data": {
      "text/html": [
       "<div>\n",
       "<style scoped>\n",
       "    .dataframe tbody tr th:only-of-type {\n",
       "        vertical-align: middle;\n",
       "    }\n",
       "\n",
       "    .dataframe tbody tr th {\n",
       "        vertical-align: top;\n",
       "    }\n",
       "\n",
       "    .dataframe thead th {\n",
       "        text-align: right;\n",
       "    }\n",
       "</style>\n",
       "<table border=\"1\" class=\"dataframe\">\n",
       "  <thead>\n",
       "    <tr style=\"text-align: right;\">\n",
       "      <th></th>\n",
       "      <th>geop_organization_id</th>\n",
       "      <th>geop_organization_name</th>\n",
       "    </tr>\n",
       "  </thead>\n",
       "  <tbody>\n",
       "    <tr>\n",
       "      <th>0</th>\n",
       "      <td>534fff68a3a7292c64a77d8d</td>\n",
       "      <td>Département de Saône-et-Loire</td>\n",
       "    </tr>\n",
       "    <tr>\n",
       "      <th>1</th>\n",
       "      <td>534fff68a3a7292c64a77d8d</td>\n",
       "      <td>Département de Saône-et-Loire (71)</td>\n",
       "    </tr>\n",
       "    <tr>\n",
       "      <th>2</th>\n",
       "      <td>534fff6aa3a7292c64a77d96</td>\n",
       "      <td>Région Hauts-de-France</td>\n",
       "    </tr>\n",
       "    <tr>\n",
       "      <th>3</th>\n",
       "      <td>534fff6ba3a7292c64a77da1</td>\n",
       "      <td>ASPA</td>\n",
       "    </tr>\n",
       "    <tr>\n",
       "      <th>4</th>\n",
       "      <td>534fff6ba3a7292c64a77da1</td>\n",
       "      <td>CConseil Départemental du Bas-Rhin (CD67)</td>\n",
       "    </tr>\n",
       "  </tbody>\n",
       "</table>\n",
       "</div>"
      ],
      "text/plain": [
       "       geop_organization_id                     geop_organization_name\n",
       "0  534fff68a3a7292c64a77d8d  Département de Saône-et-Loire            \n",
       "1  534fff68a3a7292c64a77d8d  Département de Saône-et-Loire (71)       \n",
       "2  534fff6aa3a7292c64a77d96  Région Hauts-de-France                   \n",
       "3  534fff6ba3a7292c64a77da1  ASPA                                     \n",
       "4  534fff6ba3a7292c64a77da1  CConseil Départemental du Bas-Rhin (CD67)"
      ]
     },
     "execution_count": 8,
     "metadata": {},
     "output_type": "execute_result"
    }
   ],
   "source": [
    "organizations = getDataframe('organizations.json')\n",
    "organizations[\"geop_organization_id\"] = organizations[\"_id\"].apply(mongoIdToId)\n",
    "organizations = organizations.merge(producers, left_on=\"geop_organization_id\", right_on=\"organization_id\")\n",
    "organizations[\"geop_organization_name\"] = organizations[\"_id_y\"]\n",
    "organizations = organizations[[\"geop_organization_id\", \"geop_organization_name\"]]\n",
    "organizations.head()"
   ]
  },
  {
   "cell_type": "code",
   "execution_count": 9,
   "metadata": {},
   "outputs": [],
   "source": [
    "organizations['dgv_organization_id'] = organizations['geop_organization_id']"
   ]
  },
  {
   "cell_type": "code",
   "execution_count": 10,
   "metadata": {},
   "outputs": [],
   "source": [
    "dgv_catalog_orgas = pd.read_csv('https://www.data.gouv.fr/fr/datasets/r/b7bbfedc-2448-4135-a6c7-104548d396e7',sep=';')"
   ]
  },
  {
   "cell_type": "code",
   "execution_count": 11,
   "metadata": {},
   "outputs": [
    {
     "data": {
      "text/html": [
       "<div>\n",
       "<style scoped>\n",
       "    .dataframe tbody tr th:only-of-type {\n",
       "        vertical-align: middle;\n",
       "    }\n",
       "\n",
       "    .dataframe tbody tr th {\n",
       "        vertical-align: top;\n",
       "    }\n",
       "\n",
       "    .dataframe thead th {\n",
       "        text-align: right;\n",
       "    }\n",
       "</style>\n",
       "<table border=\"1\" class=\"dataframe\">\n",
       "  <thead>\n",
       "    <tr style=\"text-align: right;\">\n",
       "      <th></th>\n",
       "      <th>id</th>\n",
       "      <th>name</th>\n",
       "      <th>metric.datasets</th>\n",
       "    </tr>\n",
       "  </thead>\n",
       "  <tbody>\n",
       "    <tr>\n",
       "      <th>0</th>\n",
       "      <td>62963d5fcfba8babf5842846</td>\n",
       "      <td>COMMUNE DE LAMANON</td>\n",
       "      <td>0</td>\n",
       "    </tr>\n",
       "    <tr>\n",
       "      <th>1</th>\n",
       "      <td>62960bfebb22e50019faa2a3</td>\n",
       "      <td>Service SIG - Ville d'Aix en Provence</td>\n",
       "      <td>1</td>\n",
       "    </tr>\n",
       "    <tr>\n",
       "      <th>2</th>\n",
       "      <td>62960a74e4d4fc681ae0c9ad</td>\n",
       "      <td>DOCTEUR MONNOT THIONVILLE BORNE DE CHARGE</td>\n",
       "      <td>1</td>\n",
       "    </tr>\n",
       "    <tr>\n",
       "      <th>3</th>\n",
       "      <td>6295de6ec5ab58d9001ac8b0</td>\n",
       "      <td>Département de la Creuse</td>\n",
       "      <td>0</td>\n",
       "    </tr>\n",
       "    <tr>\n",
       "      <th>4</th>\n",
       "      <td>6295ba80cdbed53704d24f60</td>\n",
       "      <td>AboSociete - Service par Abonnement B2B</td>\n",
       "      <td>0</td>\n",
       "    </tr>\n",
       "  </tbody>\n",
       "</table>\n",
       "</div>"
      ],
      "text/plain": [
       "                         id                                       name  \\\n",
       "0  62963d5fcfba8babf5842846  COMMUNE DE LAMANON                          \n",
       "1  62960bfebb22e50019faa2a3  Service SIG - Ville d'Aix en Provence       \n",
       "2  62960a74e4d4fc681ae0c9ad  DOCTEUR MONNOT THIONVILLE BORNE DE CHARGE   \n",
       "3  6295de6ec5ab58d9001ac8b0  Département de la Creuse                    \n",
       "4  6295ba80cdbed53704d24f60  AboSociete - Service par Abonnement B2B     \n",
       "\n",
       "   metric.datasets  \n",
       "0  0                \n",
       "1  1                \n",
       "2  1                \n",
       "3  0                \n",
       "4  0                "
      ]
     },
     "execution_count": 11,
     "metadata": {},
     "output_type": "execute_result"
    }
   ],
   "source": [
    "dgv_catalog_orgas = dgv_catalog_orgas[['id','name', 'metric.datasets']]\n",
    "dgv_catalog_orgas.head()"
   ]
  },
  {
   "cell_type": "code",
   "execution_count": 12,
   "metadata": {},
   "outputs": [],
   "source": [
    "dgv_catalog_orgas = dgv_catalog_orgas.rename(columns={\n",
    "    'id': 'dgv_organization_id',\n",
    "    'name': 'dgv_organization_name', \n",
    "    'metric.datasets': 'dgv_nb_datasets',\n",
    "})"
   ]
  },
  {
   "cell_type": "code",
   "execution_count": 13,
   "metadata": {},
   "outputs": [],
   "source": [
    "# no duplicates\n",
    "assert organizations[organizations.duplicated()].empty\n",
    "assert dgv_catalog_orgas[dgv_catalog_orgas.duplicated()].empty"
   ]
  },
  {
   "cell_type": "code",
   "execution_count": 14,
   "metadata": {},
   "outputs": [
    {
     "data": {
      "text/plain": [
       "Index(['geop_organization_id', 'geop_organization_name',\n",
       "       'dgv_organization_id'],\n",
       "      dtype='object')"
      ]
     },
     "execution_count": 14,
     "metadata": {},
     "output_type": "execute_result"
    }
   ],
   "source": [
    "organizations.columns"
   ]
  },
  {
   "cell_type": "code",
   "execution_count": 15,
   "metadata": {},
   "outputs": [
    {
     "data": {
      "text/plain": [
       "3428"
      ]
     },
     "execution_count": 15,
     "metadata": {},
     "output_type": "execute_result"
    }
   ],
   "source": [
    "dgv_catalog_orgas.dgv_organization_id.nunique()"
   ]
  },
  {
   "cell_type": "code",
   "execution_count": 16,
   "metadata": {},
   "outputs": [
    {
     "data": {
      "text/html": [
       "<div>\n",
       "<style scoped>\n",
       "    .dataframe tbody tr th:only-of-type {\n",
       "        vertical-align: middle;\n",
       "    }\n",
       "\n",
       "    .dataframe tbody tr th {\n",
       "        vertical-align: top;\n",
       "    }\n",
       "\n",
       "    .dataframe thead th {\n",
       "        text-align: right;\n",
       "    }\n",
       "</style>\n",
       "<table border=\"1\" class=\"dataframe\">\n",
       "  <thead>\n",
       "    <tr style=\"text-align: right;\">\n",
       "      <th></th>\n",
       "      <th>dgv_organization_id</th>\n",
       "      <th>dgv_organization_name</th>\n",
       "      <th>dgv_nb_datasets</th>\n",
       "      <th>geop_organization_id</th>\n",
       "      <th>geop_organization_name</th>\n",
       "    </tr>\n",
       "  </thead>\n",
       "  <tbody>\n",
       "    <tr>\n",
       "      <th>0</th>\n",
       "      <td>62963d5fcfba8babf5842846</td>\n",
       "      <td>COMMUNE DE LAMANON</td>\n",
       "      <td>0.0</td>\n",
       "      <td>NaN</td>\n",
       "      <td>NaN</td>\n",
       "    </tr>\n",
       "    <tr>\n",
       "      <th>1</th>\n",
       "      <td>62960bfebb22e50019faa2a3</td>\n",
       "      <td>Service SIG - Ville d'Aix en Provence</td>\n",
       "      <td>1.0</td>\n",
       "      <td>NaN</td>\n",
       "      <td>NaN</td>\n",
       "    </tr>\n",
       "    <tr>\n",
       "      <th>2</th>\n",
       "      <td>62960a74e4d4fc681ae0c9ad</td>\n",
       "      <td>DOCTEUR MONNOT THIONVILLE BORNE DE CHARGE</td>\n",
       "      <td>1.0</td>\n",
       "      <td>NaN</td>\n",
       "      <td>NaN</td>\n",
       "    </tr>\n",
       "    <tr>\n",
       "      <th>3</th>\n",
       "      <td>6295de6ec5ab58d9001ac8b0</td>\n",
       "      <td>Département de la Creuse</td>\n",
       "      <td>0.0</td>\n",
       "      <td>NaN</td>\n",
       "      <td>NaN</td>\n",
       "    </tr>\n",
       "    <tr>\n",
       "      <th>4</th>\n",
       "      <td>6295ba80cdbed53704d24f60</td>\n",
       "      <td>AboSociete - Service par Abonnement B2B</td>\n",
       "      <td>0.0</td>\n",
       "      <td>NaN</td>\n",
       "      <td>NaN</td>\n",
       "    </tr>\n",
       "  </tbody>\n",
       "</table>\n",
       "</div>"
      ],
      "text/plain": [
       "        dgv_organization_id                      dgv_organization_name  \\\n",
       "0  62963d5fcfba8babf5842846  COMMUNE DE LAMANON                          \n",
       "1  62960bfebb22e50019faa2a3  Service SIG - Ville d'Aix en Provence       \n",
       "2  62960a74e4d4fc681ae0c9ad  DOCTEUR MONNOT THIONVILLE BORNE DE CHARGE   \n",
       "3  6295de6ec5ab58d9001ac8b0  Département de la Creuse                    \n",
       "4  6295ba80cdbed53704d24f60  AboSociete - Service par Abonnement B2B     \n",
       "\n",
       "   dgv_nb_datasets geop_organization_id geop_organization_name  \n",
       "0  0.0              NaN                  NaN                    \n",
       "1  1.0              NaN                  NaN                    \n",
       "2  1.0              NaN                  NaN                    \n",
       "3  0.0              NaN                  NaN                    \n",
       "4  0.0              NaN                  NaN                    "
      ]
     },
     "execution_count": 16,
     "metadata": {},
     "output_type": "execute_result"
    }
   ],
   "source": [
    "# outer merge to pivot on dgv orgas, not necessarily on geop orgs\n",
    "final_orgas = dgv_catalog_orgas.merge(organizations, on='dgv_organization_id', how='outer')\n",
    "assert final_orgas[final_orgas.duplicated()].empty\n",
    "final_orgas.head()"
   ]
  },
  {
   "cell_type": "code",
   "execution_count": 17,
   "metadata": {},
   "outputs": [],
   "source": [
    "# geoc = pd.read_excel('./data/Liste_catalogues_DCAT.xlsx')\n",
    "geoc = pd.read_excel('./data/Liste_producteur_fevrier_avec_ressources.xlsx')\n",
    "del geoc[\"Unnamed: 3\"]"
   ]
  },
  {
   "cell_type": "code",
   "execution_count": 18,
   "metadata": {},
   "outputs": [
    {
     "data": {
      "text/html": [
       "<div>\n",
       "<style scoped>\n",
       "    .dataframe tbody tr th:only-of-type {\n",
       "        vertical-align: middle;\n",
       "    }\n",
       "\n",
       "    .dataframe tbody tr th {\n",
       "        vertical-align: top;\n",
       "    }\n",
       "\n",
       "    .dataframe thead th {\n",
       "        text-align: right;\n",
       "    }\n",
       "</style>\n",
       "<table border=\"1\" class=\"dataframe\">\n",
       "  <thead>\n",
       "    <tr style=\"text-align: right;\">\n",
       "      <th></th>\n",
       "      <th>geoc_organization_name</th>\n",
       "      <th>geoc_organization_uuid</th>\n",
       "      <th>geoc_organization_url</th>\n",
       "    </tr>\n",
       "  </thead>\n",
       "  <tbody>\n",
       "    <tr>\n",
       "      <th>0</th>\n",
       "      <td>Agence de l'eau Adour Garonne (AEAG)</td>\n",
       "      <td>bdb31aaf37e0f29db345d2b62d7ccccb</td>\n",
       "      <td>http://www.geocatalogue.fr/www/dcat/bdb31aaf37e0f29db345d2b62d7ccccb</td>\n",
       "    </tr>\n",
       "    <tr>\n",
       "      <th>1</th>\n",
       "      <td>Agence nationale de sécurité sanitaire de l'alimentation, de l'environnement et du travail (ANSES)</td>\n",
       "      <td>cadef4c11943e372e8afd0b94797b5ec</td>\n",
       "      <td>http://www.geocatalogue.fr/www/dcat/cadef4c11943e372e8afd0b94797b5ec</td>\n",
       "    </tr>\n",
       "    <tr>\n",
       "      <th>2</th>\n",
       "      <td>Agence Technique de l'information sur l'hospitalisation (ATIH)</td>\n",
       "      <td>98283bf812e489423f273f61a4e4e431</td>\n",
       "      <td>http://www.geocatalogue.fr/www/dcat/98283bf812e489423f273f61a4e4e431</td>\n",
       "    </tr>\n",
       "    <tr>\n",
       "      <th>3</th>\n",
       "      <td>Agglomération du Choletais</td>\n",
       "      <td>e05f395b2c2b3a94fabd65275d6ae266</td>\n",
       "      <td>http://www.geocatalogue.fr/www/dcat/e05f395b2c2b3a94fabd65275d6ae266</td>\n",
       "    </tr>\n",
       "    <tr>\n",
       "      <th>4</th>\n",
       "      <td>Air Pays de la Loire</td>\n",
       "      <td>f540ee38176857fd4ed78c5c321b9ac0</td>\n",
       "      <td>http://www.geocatalogue.fr/www/dcat/f540ee38176857fd4ed78c5c321b9ac0</td>\n",
       "    </tr>\n",
       "  </tbody>\n",
       "</table>\n",
       "</div>"
      ],
      "text/plain": [
       "                                                                               geoc_organization_name  \\\n",
       "0  Agence de l'eau Adour Garonne (AEAG)                                                                 \n",
       "1  Agence nationale de sécurité sanitaire de l'alimentation, de l'environnement et du travail (ANSES)   \n",
       "2  Agence Technique de l'information sur l'hospitalisation (ATIH)                                       \n",
       "3  Agglomération du Choletais                                                                           \n",
       "4  Air Pays de la Loire                                                                                 \n",
       "\n",
       "             geoc_organization_uuid  \\\n",
       "0  bdb31aaf37e0f29db345d2b62d7ccccb   \n",
       "1  cadef4c11943e372e8afd0b94797b5ec   \n",
       "2  98283bf812e489423f273f61a4e4e431   \n",
       "3  e05f395b2c2b3a94fabd65275d6ae266   \n",
       "4  f540ee38176857fd4ed78c5c321b9ac0   \n",
       "\n",
       "                                                  geoc_organization_url  \n",
       "0  http://www.geocatalogue.fr/www/dcat/bdb31aaf37e0f29db345d2b62d7ccccb  \n",
       "1  http://www.geocatalogue.fr/www/dcat/cadef4c11943e372e8afd0b94797b5ec  \n",
       "2  http://www.geocatalogue.fr/www/dcat/98283bf812e489423f273f61a4e4e431  \n",
       "3  http://www.geocatalogue.fr/www/dcat/e05f395b2c2b3a94fabd65275d6ae266  \n",
       "4  http://www.geocatalogue.fr/www/dcat/f540ee38176857fd4ed78c5c321b9ac0  "
      ]
     },
     "execution_count": 18,
     "metadata": {},
     "output_type": "execute_result"
    }
   ],
   "source": [
    "geoc = geoc.rename(columns={\n",
    "    'Producteurs': 'geoc_organization_name', \n",
    "    'uuid': 'geoc_organization_uuid', \n",
    "    'url de moissonnage ': 'geoc_organization_url'\n",
    "})\n",
    "geoc.head()"
   ]
  },
  {
   "cell_type": "code",
   "execution_count": 19,
   "metadata": {},
   "outputs": [],
   "source": [
    "def removeCommonWords(org):\n",
    "    org = str(org)\n",
    "    org = org.replace(' de ',' ').replace(' un ',' ').replace(' à ','').replace(' l\\'',' ').replace(' d\\'', ' ')\n",
    "    org = org.replace(' des ',' ').replace(' pour ', ' ').replace(' les ', ' ').replace('(','').replace(')','')\n",
    "    org = org.replace(' - ',' ').replace(',','').replace(' du ', ' ').replace('à','a').replace('é','e')\n",
    "    org = org.replace('ê','e').replace('è','e').replace('\\'',' ')\n",
    "    return org.lower()"
   ]
  },
  {
   "cell_type": "code",
   "execution_count": 20,
   "metadata": {},
   "outputs": [],
   "source": [
    "geoc[\"geoc_slug\"] = geoc[\"geoc_organization_name\"].apply(removeCommonWords)\n",
    "final_orgas[\"geop_slug\"] = final_orgas[\"geop_organization_name\"].apply(removeCommonWords)\n",
    "final_orgas[\"dgv_slug\"] = final_orgas[\"dgv_organization_name\"].apply(removeCommonWords)"
   ]
  },
  {
   "cell_type": "code",
   "execution_count": 21,
   "metadata": {
    "scrolled": true
   },
   "outputs": [
    {
     "data": {
      "text/plain": [
       "(99,)"
      ]
     },
     "execution_count": 21,
     "metadata": {},
     "output_type": "execute_result"
    }
   ],
   "source": [
    "df_dgv_match = final_orgas.merge(geoc, left_on=\"dgv_slug\", right_on=\"geoc_slug\")\n",
    "df_dgv_match[\"geoc_organization_url\"].drop_duplicates().shape"
   ]
  },
  {
   "cell_type": "code",
   "execution_count": 22,
   "metadata": {},
   "outputs": [
    {
     "data": {
      "text/plain": [
       "(33,)"
      ]
     },
     "execution_count": 22,
     "metadata": {},
     "output_type": "execute_result"
    }
   ],
   "source": [
    "df_geop_match = final_orgas.merge(geoc, left_on=\"geop_slug\", right_on=\"geoc_slug\")\n",
    "df_geop_match[\"geoc_organization_url\"].drop_duplicates().shape"
   ]
  },
  {
   "cell_type": "code",
   "execution_count": 23,
   "metadata": {},
   "outputs": [
    {
     "data": {
      "text/plain": [
       "(122,)"
      ]
     },
     "execution_count": 23,
     "metadata": {},
     "output_type": "execute_result"
    }
   ],
   "source": [
    "df_final = df_dgv_match.merge(df_geop_match, how=\"outer\")\n",
    "df_final[df_final['geoc_organization_uuid'].notna()][\"geoc_organization_url\"].drop_duplicates().shape"
   ]
  },
  {
   "cell_type": "code",
   "execution_count": 24,
   "metadata": {},
   "outputs": [
    {
     "data": {
      "text/html": [
       "<div>\n",
       "<style scoped>\n",
       "    .dataframe tbody tr th:only-of-type {\n",
       "        vertical-align: middle;\n",
       "    }\n",
       "\n",
       "    .dataframe tbody tr th {\n",
       "        vertical-align: top;\n",
       "    }\n",
       "\n",
       "    .dataframe thead th {\n",
       "        text-align: right;\n",
       "    }\n",
       "</style>\n",
       "<table border=\"1\" class=\"dataframe\">\n",
       "  <thead>\n",
       "    <tr style=\"text-align: right;\">\n",
       "      <th></th>\n",
       "      <th>dgv_organization_id</th>\n",
       "      <th>dgv_organization_name</th>\n",
       "      <th>dgv_nb_datasets</th>\n",
       "      <th>geop_organization_id</th>\n",
       "      <th>geop_organization_name</th>\n",
       "      <th>geop_slug</th>\n",
       "      <th>dgv_slug</th>\n",
       "      <th>geoc_organization_name</th>\n",
       "      <th>geoc_organization_uuid</th>\n",
       "      <th>geoc_organization_url</th>\n",
       "      <th>geoc_slug</th>\n",
       "    </tr>\n",
       "  </thead>\n",
       "  <tbody>\n",
       "    <tr>\n",
       "      <th>0</th>\n",
       "      <td>627e6aa33a3874a12a844a62</td>\n",
       "      <td>Communauté d'Agglomération du Grand Villeneuvois</td>\n",
       "      <td>0.0</td>\n",
       "      <td>NaN</td>\n",
       "      <td>NaN</td>\n",
       "      <td>nan</td>\n",
       "      <td>communaute agglomeration grand villeneuvois</td>\n",
       "      <td>Communauté d'Agglomération du Grand Villeneuvois</td>\n",
       "      <td>49b16c22f3e4956b8fae35eace1d34d2</td>\n",
       "      <td>http://www.geocatalogue.fr/www/dcat/49b16c22f3e4956b8fae35eace1d34d2</td>\n",
       "      <td>communaute agglomeration grand villeneuvois</td>\n",
       "    </tr>\n",
       "    <tr>\n",
       "      <th>1</th>\n",
       "      <td>62287c5b201dffeb66cc385a</td>\n",
       "      <td>BRL</td>\n",
       "      <td>3.0</td>\n",
       "      <td>NaN</td>\n",
       "      <td>NaN</td>\n",
       "      <td>nan</td>\n",
       "      <td>brl</td>\n",
       "      <td>BRL</td>\n",
       "      <td>1a0b4aa361bb5315e304831a320f89b3</td>\n",
       "      <td>http://www.geocatalogue.fr/www/dcat/1a0b4aa361bb5315e304831a320f89b3</td>\n",
       "      <td>brl</td>\n",
       "    </tr>\n",
       "    <tr>\n",
       "      <th>2</th>\n",
       "      <td>61fc10b5285e11c883d018bd</td>\n",
       "      <td>MAIRIE LES TROIS DOMAINES</td>\n",
       "      <td>0.0</td>\n",
       "      <td>NaN</td>\n",
       "      <td>NaN</td>\n",
       "      <td>nan</td>\n",
       "      <td>mairie les trois domaines</td>\n",
       "      <td>Mairie de Les Trois domaines</td>\n",
       "      <td>6fc21c45008161fcadd99a9c53e0351f</td>\n",
       "      <td>http://www.geocatalogue.fr/www/dcat/6fc21c45008161fcadd99a9c53e0351f</td>\n",
       "      <td>mairie les trois domaines</td>\n",
       "    </tr>\n",
       "    <tr>\n",
       "      <th>3</th>\n",
       "      <td>61b0b0673c11d387da1df057</td>\n",
       "      <td>Pontivy Communaute</td>\n",
       "      <td>0.0</td>\n",
       "      <td>NaN</td>\n",
       "      <td>NaN</td>\n",
       "      <td>nan</td>\n",
       "      <td>pontivy communaute</td>\n",
       "      <td>Pontivy Communauté</td>\n",
       "      <td>eac49cc9bdb321a31f6150862adc28b7</td>\n",
       "      <td>http://www.geocatalogue.fr/www/dcat/eac49cc9bdb321a31f6150862adc28b7</td>\n",
       "      <td>pontivy communaute</td>\n",
       "    </tr>\n",
       "    <tr>\n",
       "      <th>4</th>\n",
       "      <td>61484aaaffc949c8b4971434</td>\n",
       "      <td>Préfecture de la région Hauts-de-France</td>\n",
       "      <td>1.0</td>\n",
       "      <td>NaN</td>\n",
       "      <td>NaN</td>\n",
       "      <td>nan</td>\n",
       "      <td>prefecture la region hauts-de-france</td>\n",
       "      <td>Préfecture de la région Hauts-de-France</td>\n",
       "      <td>0709d43ca86491e10b8d95b9ae7ad916</td>\n",
       "      <td>http://www.geocatalogue.fr/www/dcat/0709d43ca86491e10b8d95b9ae7ad916</td>\n",
       "      <td>prefecture la region hauts-de-france</td>\n",
       "    </tr>\n",
       "  </tbody>\n",
       "</table>\n",
       "</div>"
      ],
      "text/plain": [
       "        dgv_organization_id                             dgv_organization_name  \\\n",
       "0  627e6aa33a3874a12a844a62  Communauté d'Agglomération du Grand Villeneuvois   \n",
       "1  62287c5b201dffeb66cc385a  BRL                                                \n",
       "2  61fc10b5285e11c883d018bd  MAIRIE LES TROIS DOMAINES                          \n",
       "3  61b0b0673c11d387da1df057  Pontivy Communaute                                 \n",
       "4  61484aaaffc949c8b4971434  Préfecture de la région Hauts-de-France            \n",
       "\n",
       "   dgv_nb_datasets geop_organization_id geop_organization_name geop_slug  \\\n",
       "0  0.0              NaN                  NaN                    nan        \n",
       "1  3.0              NaN                  NaN                    nan        \n",
       "2  0.0              NaN                  NaN                    nan        \n",
       "3  0.0              NaN                  NaN                    nan        \n",
       "4  1.0              NaN                  NaN                    nan        \n",
       "\n",
       "                                      dgv_slug  \\\n",
       "0  communaute agglomeration grand villeneuvois   \n",
       "1  brl                                           \n",
       "2  mairie les trois domaines                     \n",
       "3  pontivy communaute                            \n",
       "4  prefecture la region hauts-de-france          \n",
       "\n",
       "                             geoc_organization_name  \\\n",
       "0  Communauté d'Agglomération du Grand Villeneuvois   \n",
       "1  BRL                                                \n",
       "2  Mairie de Les Trois domaines                       \n",
       "3  Pontivy Communauté                                 \n",
       "4  Préfecture de la région Hauts-de-France            \n",
       "\n",
       "             geoc_organization_uuid  \\\n",
       "0  49b16c22f3e4956b8fae35eace1d34d2   \n",
       "1  1a0b4aa361bb5315e304831a320f89b3   \n",
       "2  6fc21c45008161fcadd99a9c53e0351f   \n",
       "3  eac49cc9bdb321a31f6150862adc28b7   \n",
       "4  0709d43ca86491e10b8d95b9ae7ad916   \n",
       "\n",
       "                                                  geoc_organization_url  \\\n",
       "0  http://www.geocatalogue.fr/www/dcat/49b16c22f3e4956b8fae35eace1d34d2   \n",
       "1  http://www.geocatalogue.fr/www/dcat/1a0b4aa361bb5315e304831a320f89b3   \n",
       "2  http://www.geocatalogue.fr/www/dcat/6fc21c45008161fcadd99a9c53e0351f   \n",
       "3  http://www.geocatalogue.fr/www/dcat/eac49cc9bdb321a31f6150862adc28b7   \n",
       "4  http://www.geocatalogue.fr/www/dcat/0709d43ca86491e10b8d95b9ae7ad916   \n",
       "\n",
       "                                     geoc_slug  \n",
       "0  communaute agglomeration grand villeneuvois  \n",
       "1  brl                                          \n",
       "2  mairie les trois domaines                    \n",
       "3  pontivy communaute                           \n",
       "4  prefecture la region hauts-de-france         "
      ]
     },
     "execution_count": 24,
     "metadata": {},
     "output_type": "execute_result"
    }
   ],
   "source": [
    "df_final[df_final['geoc_organization_uuid'].notna()].head()"
   ]
  },
  {
   "cell_type": "code",
   "execution_count": 25,
   "metadata": {},
   "outputs": [],
   "source": [
    "df_final.to_csv('mapping_geop_dgv_geoc-pivot-datagouv-v2.csv', index=False)"
   ]
  },
  {
   "cell_type": "code",
   "execution_count": 26,
   "metadata": {},
   "outputs": [
    {
     "data": {
      "text/plain": [
       "(173, 11)"
      ]
     },
     "execution_count": 26,
     "metadata": {},
     "output_type": "execute_result"
    }
   ],
   "source": [
    "df_final.shape"
   ]
  },
  {
   "cell_type": "code",
   "execution_count": 38,
   "metadata": {},
   "outputs": [
    {
     "data": {
      "text/html": [
       "<div>\n",
       "<style scoped>\n",
       "    .dataframe tbody tr th:only-of-type {\n",
       "        vertical-align: middle;\n",
       "    }\n",
       "\n",
       "    .dataframe tbody tr th {\n",
       "        vertical-align: top;\n",
       "    }\n",
       "\n",
       "    .dataframe thead th {\n",
       "        text-align: right;\n",
       "    }\n",
       "</style>\n",
       "<table border=\"1\" class=\"dataframe\">\n",
       "  <thead>\n",
       "    <tr style=\"text-align: right;\">\n",
       "      <th></th>\n",
       "      <th>dgv_organization_id</th>\n",
       "      <th>dgv_organization_name</th>\n",
       "      <th>dgv_nb_datasets</th>\n",
       "      <th>dgv_slug</th>\n",
       "      <th>adh_name</th>\n",
       "      <th>producteur</th>\n",
       "      <th>nb_MD</th>\n",
       "      <th>geoide_slug</th>\n",
       "    </tr>\n",
       "  </thead>\n",
       "  <tbody>\n",
       "  </tbody>\n",
       "</table>\n",
       "</div>"
      ],
      "text/plain": [
       "Empty DataFrame\n",
       "Columns: [dgv_organization_id, dgv_organization_name, dgv_nb_datasets, dgv_slug, adh_name, producteur, nb_MD, geoide_slug]\n",
       "Index: []"
      ]
     },
     "execution_count": 38,
     "metadata": {},
     "output_type": "execute_result"
    }
   ],
   "source": [
    "# GEO-IDE\n",
    "\n",
    "df_geoide = pd.read_excel(\"Geocatalogue_producteurs Geo-IDE.xlsx\")\n",
    "df_geoide[\"geoide_slug\"] = df_geoide[\"producteur\"].apply(removeCommonWords)\n",
    "dgv_catalog_orgas[\"dgv_slug\"] = dgv_catalog_orgas[\"dgv_organization_name\"].apply(removeCommonWords)\n",
    "df_geoide_match = dgv_catalog_orgas.merge(df_geoide, left_on=\"dgv_slug\", right_on=\"geoide_slug\")\n",
    "df_geoide_match"
   ]
  },
  {
   "cell_type": "code",
   "execution_count": 60,
   "metadata": {},
   "outputs": [
    {
     "name": "stdout",
     "output_type": "stream",
     "text": [
      "No result for  Atelier de Suivi\n",
      "Found Cerema for  Centre d'études et d'Expertise\n",
      "No result for  COVADIS\n",
      "Found DDT de l'Ain for  DDT 01\n",
      "Found DDT Aisne for  DDT 02\n",
      "Found Direction Départementale des Territoires de l'Allier for  DDT 03\n",
      "Found Direction Départementale des Territoires des Alpes de Haute-Provence for  DDT 04\n",
      "No result for  DDT 05 Direction\n",
      "Found DDT de l'Ardèche for  DDT 07\n",
      "Found DDT Ardennes for  DDT 08\n",
      "Found Direction Départementale des Territoires de l'Ariège for  DDT 09\n",
      "Found Direction Départementale des Territoires de l'Aube for  DDT 10\n",
      "Found DDT Aveyron for  DDT 12\n",
      "Found Direction Départementale et des Territoires du Cantal for  DDT 15\n",
      "Found Direction Départementale des Territoires de Charente for  DDT 16\n",
      "Found Direction Départementale des Territoires du Cher for  DDT 18\n",
      "Found Direction Départementale des Territoires de la Corrèze for  DDT 19\n",
      "Found DDT Côte-d'Or for  DDT 21\n",
      "Found DDT Creuse for  DDT 23\n",
      "Found DDT Dordogne for  DDT 24\n",
      "Found Direction Départementale des Territoires du Doubs for  DDT 25\n",
      "Found DDT Drôme for  DDT 26\n",
      "Found Direction Départementale des Territoires d'Eure-et-Loir for  DDT 28\n",
      "Found DDT Haute-Garonne for  DDT 31\n",
      "Found Direction Départementale des Territoires du Gers for  DDT 32\n",
      "Found DDT Indre for  DDT 36\n",
      "No result for  DDT 37 Direction\n",
      "Found DDT de l'Isère for  DDT 38\n",
      "Found DDT Jura for  DDT 39\n",
      "Found Direction Départementale des Territoires de Loir-et-Cher for  DDT 41\n",
      "Found DDT de la Loire for  DDT 42\n",
      "Found Direction Départementale des Territoires de la Haute-Loire for  DDT 43\n",
      "Found Direction Départementale des Territoires du Loiret for  DDT 45\n",
      "Found DDT Lot for  DDT 46\n",
      "Found Direction Départementale des Territoires de Lot-et-Garonne for  DDT 47\n",
      "Found Direction Départementale des Territoires de la Lozère for  DDT 48\n",
      "Found DDT Maine-et-Loire for  DDT 49\n",
      "Found Direction Départementale des Territoires de la Marne for  DDT 51\n",
      "Found DDT Haute-Marne for  DDT 52\n",
      "Found DDT Mayenne for  DDT 53\n",
      "Found Direction Départementale des Territoires de Meurthe-et-Moselle for  DDT 54\n",
      "Found Direction Départementale des Territoires de la Meuse for  DDT 55\n",
      "No result for  DDT 57\n",
      "Found DDT Nièvre for  DDT 58\n",
      "Found DDT Oise for  DDT 60\n",
      "Found Direction Départementale des Territoires de l'Orne for  DDT 61\n",
      "Found Direction Départementale des Territoire du Puy-de-Dôme for  DDT 63\n",
      "Found DDT Hautes-Pyrénées for  DDT 65\n",
      "Found Direction Départementale des Territoires du Bas-Rhin (67) for  DDT 67\n",
      "No result for  DDT 68\n",
      "No result for  DDT 69\n",
      "Found Direction Départementale des Territoires de Haute-Saône for  DDT 70\n",
      "Found Direction Départementale des Territoires de Saône-et-Loire for  DDT 71\n",
      "Found Direction Départementale des Territoires de la Sarthe for  DDT 72\n",
      "Found DDT Savoie for  DDT 73\n",
      "Found Direction Départementale des Territoires de Haute-Savoie for  DDT 74\n",
      "Found Direction Départementale des Territoires de Seine-et-Marne for  DDT 77\n",
      "Found DDT Yvelines for  DDT 78\n",
      "Found DDT Deux-Sèvres for  DDT 79\n",
      "Found DDT Tarn for  DDT 81\n",
      "Found DDT Tarn-et-Garonne for  DDT 82\n",
      "Found DDT Vaucluse for  DDT 84\n",
      "Found DDT Vienne for  DDT 86\n",
      "Found DDT Haute-Vienne for  DDT 87\n",
      "Found Direction Départementale des Territoires des Vosges for  DDT 88\n",
      "Found DDT Yonne for  DDT 89\n",
      "Found DDT Territoire-de-Belfort for  DDT 90\n",
      "Found Direction Départementale des Territoires de l'Essonne for  DDT 91\n",
      "Found Direction Départementale des Territoires du Val d'Oise for  DDT 95\n",
      "Found DDTM Alpes-Maritimes for  DDTM 06\n",
      "Found DDTM Aude for  DDTM 11\n",
      "No result for  DDTM 13\n",
      "Found Direction Départementale des Territoires et de la Mer du Calvados for  DDTM 14\n",
      "Found Direction Départementale des Territoires et de la Mer de Charente-Maritime for  DDTM 17\n",
      "Found DDTM Côtes d'Armor for  DDTM 22\n",
      "Found Direction Départementale des Territoires et de la Mer de l'Eure for  DDTM 27\n",
      "Found DDTM Finistère for  DDTM 29\n",
      "Found DDTM Corse-du-Sud for  DDTM 2A\n",
      "Found DDTM Haute-Corse for  DDTM 2B\n",
      "Found DDTM Gard for  DDTM 30\n",
      "Found DDTM Gard for  DDTM 30\n",
      "Found DDTM Gironde for  DDTM 33\n",
      "No result for  DDTM 35 Direction\n",
      "Found Direction Départementale des Territoires et de la Mer des Landes for  DDTM 40\n",
      "Found Direction Départementale des Territoires et de la Mer de Loire-Atlantique for  DDTM 44\n",
      "Found DDTM Manche for  DDTM 50\n",
      "Found DDTM Morbihan for  DDTM 56\n",
      "Found DDTM Nord for  DDTM 59\n",
      "Found DDTM Pas-de-Calais for  DDTM 62\n",
      "Found Direction Départementale des Territoires et de la Mer des Pyrénées-Atlantiques for  DDTM 64\n",
      "Found DDTM Pyrénées-Orientales for  DDTM 66\n",
      "Found DDTM Seine-Maritime for  DDTM 76\n",
      "Found Direction Départementale des Territoires et de la Mer de la Somme for  DDTM 80\n",
      "Found Direction Départementale des Territoires et de la Mer du Var for  DDTM 83\n",
      "Found DDTM Vendée for  DDTM 85\n",
      "Found DAAF de GUYANE for  Direction de l'Alimentation\n",
      "No result for  Direction de l'Environnement\n",
      "No result for  Direction de l'Environnement\n",
      "No result for  Direction de l'Environnement\n",
      "Found Ministère de la Transition écologique for  Direction Départementale des Territoires DDT\n",
      "No result for  Direction des Territoires\n",
      "Found Aides-territoires for  Direction Générale de l'Aménagement\n",
      "No result for  Direction Intedépartementale\n",
      "No result for  Direction Intedépartementale\n",
      "No result for  Direction Interdépartementale\n",
      "Found Service central d’hydrométéorologie et d’appui à la prévision des inondations for  Direction Inter\n",
      "Found Service central d’hydrométéorologie et d’appui à la prévision des inondations for  Direction Inter\n",
      "Found Service central d’hydrométéorologie et d’appui à la prévision des inondations for  Direction Inter\n",
      "Found Service central d’hydrométéorologie et d’appui à la prévision des inondations for  Direction Inter\n",
      "Found Direction régionale de l'alimentation, de l'agriculture et de la forêt - Auvergne-Rhône-Alpes for  Direction Régionale de l'Alimentation de l'Agriculture et de la Forêt d'Auvergne\n",
      "No result for  Direction Régionale de l'Alimentation de l'Agriculture et de la Forêt de Bourgogne\n",
      "No result for  Direction Régionale de l'Alimentation de l'Agriculture et de la Forêt de Bretagne\n",
      "No result for  Direction Régionale de l'Alimentation de l'Agriculture et de la Forêt de Normandie\n",
      "No result for  Direction Régionale de l'Alimentation de l'Agriculture et de la Forêt de Nouvelle\n",
      "No result for  Direction Régionale de l'Alimentation de l'Agriculture et de la Forêt des Hauts\n",
      "No result for  Direction Régionale de l'Alimentation de l'Agriculture et de la Forêt d'Occitanie\n",
      "No result for  Direction Régionale de l'Alimentation de l'Agriculture et de la Forêt du Centre\n",
      "No result for  Direction Régionale de l'Alimentation de l'Agriculture et de la Forêt du Grand\n",
      "Found DREAL Bourgogne-Franche-Comté for  Direction Régionale de l'Environnement de l'Aménagement et du Logement de Bourgogne\n",
      "Found Direction régionale de l'Environnement, de l'Aménagement et du Logement de Normandie for  Direction Régionale de l'Environnement de l'Aménagement et du Logement de Normandie\n",
      "Found DREAL Nouvelle Aquitaine for  Direction Régionale de l'Environnement de l'Aménagement et du Logement de Nouvelle\n",
      "No result for  Direction Régionale de l'Environnement de l'Aménagement et du Logement de Provence\n",
      "Found Direction Régionale de l'Environnement de l'Aménagement et du Logement des Hauts de France for  Direction Régionale de l'Environnement de l'Aménagement et du Logement des Hauts\n",
      "No result for  Direction Régionale de l'Environnement de l'Aménagement et du Logement d'Occitanie\n",
      "No result for  Direction Régionale de l'Environnement de l'Aménagement et du Logement du Grand\n",
      "No result for  Direction Régionale et Interdépartementale de l'Alimentation\n",
      "No result for  Direction Régionale et Interdépartementale de l’Environnement,\n",
      "No result for  Direction Régionale et Interdépartementale de l'Environnement\n",
      "Found Direction Régionale et Interdépartementale de l'Équipement et de l'Aménagement d'Île-de-France for  Direction Régionale et Interdépartementale de l'Equipement\n",
      "No result for  FORMAIX4\n",
      "No result for  Groupe Socle\n",
      "No result for  Mission Information Géographique\n",
      "No result for  Office des données\n",
      "Found Parc national des Cévennes for  Parcs Nationaux de France\n",
      "No result for  PNE_IG\n",
      "Found Pôle national de données de Biodiversité for  Pôle national\n",
      "No result for  Service du Haut\n"
     ]
    },
    {
     "name": "stdout",
     "output_type": "stream",
     "text": [
      "No result for  SPRS\n"
     ]
    }
   ],
   "source": [
    "def fuzzy_search(org):\n",
    "    # url = \"https://www.data.gouv.fr/api/1/organizations?q={}\"\n",
    "    url = \"https://www.data.gouv.fr/api/2/organizations/search/?q={}\"\n",
    "    if len(org) <= 3:\n",
    "        return None, None\n",
    "    org_vector = org.replace(\"(\", \"\").replace(\")\", \"\").replace(\"-\", \" \")\n",
    "    org_vector = org_vector.split(\" \")\n",
    "    q = \"\"\n",
    "    result = None, None\n",
    "    for part in org_vector:\n",
    "        q += f\" {part}\"\n",
    "        if len(q) <= 3:\n",
    "            continue\n",
    "        r = requests.get(url.format(q))\n",
    "        data = r.json()\n",
    "        if data['total'] == 0:\n",
    "            print(f'No result for {q}')\n",
    "            break\n",
    "        elif data['total'] == 1:\n",
    "            result = data['data'][0]['id'], data['data'][0]['name']\n",
    "            print(f\"Found {data['data'][0]['name']} for {q}\")\n",
    "            break\n",
    "        else:\n",
    "            pass\n",
    "            # print(f\"Iterating, found {data['total']} for {q}...\")\n",
    "    return result\n",
    "\n",
    "results = df_geoide[\"producteur\"].apply(fuzzy_search)"
   ]
  },
  {
   "cell_type": "code",
   "execution_count": 77,
   "metadata": {},
   "outputs": [],
   "source": [
    "df_geoide[[\"dgv_match_id\", \"dgv_match_name\"]] = pd.DataFrame(results.tolist(), index=df_geoide.index)\n",
    "df_geoide.to_csv('geoide-datagouv-mapping.csv',index=False)"
   ]
  },
  {
   "cell_type": "code",
   "execution_count": 25,
   "metadata": {},
   "outputs": [],
   "source": [
    "# ENRICH DATA with api calls\n",
    "from collections import defaultdict\n",
    "\n",
    "url = \"https://www.data.gouv.fr/api/1\"\n",
    "auth = {\n",
    "    \"x-api-key\": os.getenv(\"DATAGOUV_TOKEN\")\n",
    "}\n",
    "\n",
    "def get_org_data(org_id):\n",
    "    org_data = defaultdict(list)\n",
    "    org_data[\"id\"] = org_id\n",
    "    r = requests.get(f\"{url}/organizations/{org_id}/\")\n",
    "    data = r.json()\n",
    "\n",
    "    # members\n",
    "    for m in data[\"members\"]:\n",
    "        r = requests.get(m[\"user\"][\"uri\"], headers=auth)\n",
    "        mdata = r.json()\n",
    "        org_data[m[\"role\"]].append(f\"{mdata['first_name']} {mdata['last_name']} <{mdata['email']}>\")\n",
    "    \n",
    "    org_data[\"admin\"] = \", \".join(org_data[\"admin\"])\n",
    "    org_data[\"editor\"] = \", \".join(org_data[\"editor\"])\n",
    "\n",
    "    # datasets\n",
    "    r = requests.get(f\"{url}/organizations/{org_id}/datasets/?page_size=1000\")\n",
    "    datasets = r.json()\n",
    "    assert datasets[\"total\"] == len(datasets[\"data\"])\n",
    "    org_data[\"nb_datasets\"] = datasets[\"total\"]\n",
    "    org_data[\"nb_datasets_geop\"] = len([d[\"id\"] for d in datasets[\"data\"] if \"geop:dataset_id\" in d[\"extras\"]])\n",
    "    org_data[\"last_dataset_modified_date\"] = max([d[\"last_modified\"] for d in datasets[\"data\"]]) if datasets[\"data\"] else None\n",
    "        \n",
    "    return dict(org_data)"
   ]
  },
  {
   "cell_type": "code",
   "execution_count": 26,
   "metadata": {},
   "outputs": [],
   "source": [
    "metadata = []\n",
    "for org_id in df_final[\"dgv_organization_id\"].drop_duplicates():\n",
    "    metadata.append(get_org_data(org_id))"
   ]
  },
  {
   "cell_type": "code",
   "execution_count": 27,
   "metadata": {},
   "outputs": [],
   "source": [
    "del df_final[\"dgv_nb_datasets\"]"
   ]
  },
  {
   "cell_type": "code",
   "execution_count": 28,
   "metadata": {},
   "outputs": [
    {
     "data": {
      "text/plain": [
       "277"
      ]
     },
     "execution_count": 28,
     "metadata": {},
     "output_type": "execute_result"
    }
   ],
   "source": [
    "r = requests.get(f\"{url}/harvest/sources/?page_size=1000\", headers=auth)\n",
    "harvesters = r.json()\n",
    "assert harvesters[\"total\"] == len(harvesters[\"data\"])\n",
    "len(harvesters[\"data\"])"
   ]
  },
  {
   "cell_type": "code",
   "execution_count": 66,
   "metadata": {},
   "outputs": [
    {
     "data": {
      "text/plain": [
       "20"
      ]
     },
     "execution_count": 66,
     "metadata": {},
     "output_type": "execute_result"
    }
   ],
   "source": [
    "# harvesters\n",
    "def get_harvest_data(org_id):\n",
    "    hs = [h for h in harvesters[\"data\"] if h[\"organization\"] and h[\"organization\"].get(\"id\") == org_id]\n",
    "    return {\n",
    "        \"id\": org_id,\n",
    "        \"nb_harvesters\": len(hs),\n",
    "        \"harvesters\": \" | \".join([\n",
    "            f\"{h['id']} — {h['name']} — {h['url']}\" for h in hs\n",
    "        ])\n",
    "    }\n",
    "\n",
    "harvesters_match = []\n",
    "for org_id in df_final[\"dgv_organization_id\"].drop_duplicates():\n",
    "    harvesters_match.append(get_harvest_data(org_id))\n",
    "    \n",
    "len([h for h in harvesters_match if h['nb_harvesters']])"
   ]
  },
  {
   "cell_type": "code",
   "execution_count": 29,
   "metadata": {},
   "outputs": [
    {
     "ename": "NameError",
     "evalue": "name 'harvesters_match' is not defined",
     "output_type": "error",
     "traceback": [
      "\u001b[0;31m---------------------------------------------------------------------------\u001b[0m",
      "\u001b[0;31mNameError\u001b[0m                                 Traceback (most recent call last)",
      "Input \u001b[0;32mIn [29]\u001b[0m, in \u001b[0;36m<module>\u001b[0;34m\u001b[0m\n\u001b[1;32m      1\u001b[0m meta_df \u001b[38;5;241m=\u001b[39m pd\u001b[38;5;241m.\u001b[39mDataFrame(metadata)\n\u001b[0;32m----> 2\u001b[0m harvest_df \u001b[38;5;241m=\u001b[39m pd\u001b[38;5;241m.\u001b[39mDataFrame(\u001b[43mharvesters_match\u001b[49m)\n\u001b[1;32m      3\u001b[0m df_meta \u001b[38;5;241m=\u001b[39m df_final\u001b[38;5;241m.\u001b[39mmerge(meta_df, right_on\u001b[38;5;241m=\u001b[39m\u001b[38;5;124m\"\u001b[39m\u001b[38;5;124mid\u001b[39m\u001b[38;5;124m\"\u001b[39m, left_on\u001b[38;5;241m=\u001b[39m\u001b[38;5;124m\"\u001b[39m\u001b[38;5;124mdgv_organization_id\u001b[39m\u001b[38;5;124m\"\u001b[39m)\n\u001b[1;32m      4\u001b[0m \u001b[38;5;28;01mdel\u001b[39;00m df_meta[\u001b[38;5;124m\"\u001b[39m\u001b[38;5;124mid\u001b[39m\u001b[38;5;124m\"\u001b[39m]\n",
      "\u001b[0;31mNameError\u001b[0m: name 'harvesters_match' is not defined"
     ]
    }
   ],
   "source": [
    "meta_df = pd.DataFrame(metadata)\n",
    "harvest_df = pd.DataFrame(harvesters_match)\n",
    "df_meta = df_final.merge(meta_df, right_on=\"id\", left_on=\"dgv_organization_id\")\n",
    "del df_meta[\"id\"]\n",
    "df_meta = df_meta.merge(harvest_df, right_on=\"id\", left_on=\"dgv_organization_id\")\n",
    "del df_meta[\"id\"]\n",
    "df_meta"
   ]
  },
  {
   "cell_type": "code",
   "execution_count": 68,
   "metadata": {},
   "outputs": [],
   "source": [
    "df_meta.to_csv('mapping_geop_dgv_geoc-pivot-datagouv_w_metadata_harvest.csv',index=False)"
   ]
  },
  {
   "cell_type": "code",
   "execution_count": 26,
   "metadata": {},
   "outputs": [],
   "source": [
    "# TODO:\n",
    "# - [x] add nb of datasets\n",
    "# - [x] add nb of geop datasets\n",
    "# - [x] add admin contacts\n",
    "# - [x] add members contacts\n",
    "# - [x] last modified dataset date\n",
    "# - [x] match w/o joining on geop_organizations (dgv_organizations)"
   ]
  },
  {
   "cell_type": "code",
   "execution_count": null,
   "metadata": {},
   "outputs": [],
   "source": []
  }
 ],
 "metadata": {
  "kernelspec": {
   "display_name": "Python 3",
   "language": "python",
   "name": "python3"
  },
  "language_info": {
   "codemirror_mode": {
    "name": "ipython",
    "version": 3
   },
   "file_extension": ".py",
   "mimetype": "text/x-python",
   "name": "python",
   "nbconvert_exporter": "python",
   "pygments_lexer": "ipython3",
   "version": "3.8.12"
  }
 },
 "nbformat": 4,
 "nbformat_minor": 5
}
