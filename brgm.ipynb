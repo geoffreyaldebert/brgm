{
 "cells": [
  {
   "cell_type": "code",
   "execution_count": 9,
   "id": "889175e5",
   "metadata": {},
   "outputs": [
    {
     "name": "stderr",
     "output_type": "stream",
     "text": [
      "/var/folders/st/8jn3gyls0_nbxy23bw4zmds00000gn/T/ipykernel_66512/2167127486.py:7: FutureWarning: Passing a negative integer is deprecated in version 1.0 and will not be supported in future version. Instead, use None to not limit the column width.\n",
      "  pd.set_option('display.max_colwidth', -1)\n"
     ]
    }
   ],
   "source": [
    "import os\n",
    "import json\n",
    "import pandas as pd\n",
    "import requests\n",
    "pd.options.display.max_rows = 200\n",
    "pd.options.display.max_columns = 100\n",
    "pd.set_option('display.max_colwidth', -1)"
   ]
  },
  {
   "cell_type": "code",
   "execution_count": 32,
   "id": "9918edf5",
   "metadata": {},
   "outputs": [],
   "source": [
    "def getDataframe(filename):\n",
    "    arr = []\n",
    "    with open('./data/' + filename) as out:\n",
    "        for line in out:\n",
    "            j_content = json.loads(line)\n",
    "            arr.append(j_content)\n",
    "    df = pd.DataFrame(arr)\n",
    "    return df"
   ]
  },
  {
   "cell_type": "code",
   "execution_count": 33,
   "id": "d3d51962",
   "metadata": {},
   "outputs": [],
   "source": [
    "def mongoIdToId(value):\n",
    "    return dict(value)[\"$oid\"]"
   ]
  },
  {
   "cell_type": "code",
   "execution_count": 34,
   "id": "b983b083",
   "metadata": {},
   "outputs": [
    {
     "data": {
      "text/html": [
       "<div>\n",
       "<style scoped>\n",
       "    .dataframe tbody tr th:only-of-type {\n",
       "        vertical-align: middle;\n",
       "    }\n",
       "\n",
       "    .dataframe tbody tr th {\n",
       "        vertical-align: top;\n",
       "    }\n",
       "\n",
       "    .dataframe thead th {\n",
       "        text-align: right;\n",
       "    }\n",
       "</style>\n",
       "<table border=\"1\" class=\"dataframe\">\n",
       "  <thead>\n",
       "    <tr style=\"text-align: right;\">\n",
       "      <th></th>\n",
       "      <th>_id</th>\n",
       "      <th>associatedTo</th>\n",
       "      <th>__v</th>\n",
       "      <th>organization_id</th>\n",
       "    </tr>\n",
       "  </thead>\n",
       "  <tbody>\n",
       "    <tr>\n",
       "      <th>0</th>\n",
       "      <td>AFB</td>\n",
       "      <td>{'$oid': '534fffb2a3a7292c64a78123'}</td>\n",
       "      <td>0.0</td>\n",
       "      <td>534fffb2a3a7292c64a78123</td>\n",
       "    </tr>\n",
       "    <tr>\n",
       "      <th>1</th>\n",
       "      <td>AFB - DR Nouvelle-Aquitaine</td>\n",
       "      <td>{'$oid': '534fffb2a3a7292c64a78123'}</td>\n",
       "      <td>0.0</td>\n",
       "      <td>534fffb2a3a7292c64a78123</td>\n",
       "    </tr>\n",
       "    <tr>\n",
       "      <th>2</th>\n",
       "      <td>ALTOA</td>\n",
       "      <td>{'$oid': '580fb83a88ee38771813e4cb'}</td>\n",
       "      <td>NaN</td>\n",
       "      <td>580fb83a88ee38771813e4cb</td>\n",
       "    </tr>\n",
       "    <tr>\n",
       "      <th>3</th>\n",
       "      <td>ANFR</td>\n",
       "      <td>{'$oid': '54256fe588ee380af6717348'}</td>\n",
       "      <td>NaN</td>\n",
       "      <td>54256fe588ee380af6717348</td>\n",
       "    </tr>\n",
       "    <tr>\n",
       "      <th>4</th>\n",
       "      <td>ARS</td>\n",
       "      <td>{'$oid': '534fffb2a3a7292c64a78123'}</td>\n",
       "      <td>0.0</td>\n",
       "      <td>534fffb2a3a7292c64a78123</td>\n",
       "    </tr>\n",
       "  </tbody>\n",
       "</table>\n",
       "</div>"
      ],
      "text/plain": [
       "                           _id                          associatedTo  __v  \\\n",
       "0  AFB                          {'$oid': '534fffb2a3a7292c64a78123'}  0.0   \n",
       "1  AFB - DR Nouvelle-Aquitaine  {'$oid': '534fffb2a3a7292c64a78123'}  0.0   \n",
       "2  ALTOA                        {'$oid': '580fb83a88ee38771813e4cb'} NaN    \n",
       "3  ANFR                         {'$oid': '54256fe588ee380af6717348'} NaN    \n",
       "4  ARS                          {'$oid': '534fffb2a3a7292c64a78123'}  0.0   \n",
       "\n",
       "            organization_id  \n",
       "0  534fffb2a3a7292c64a78123  \n",
       "1  534fffb2a3a7292c64a78123  \n",
       "2  580fb83a88ee38771813e4cb  \n",
       "3  54256fe588ee380af6717348  \n",
       "4  534fffb2a3a7292c64a78123  "
      ]
     },
     "execution_count": 34,
     "metadata": {},
     "output_type": "execute_result"
    }
   ],
   "source": [
    "producers = getDataframe('producers.json')\n",
    "producers[\"organization_id\"] = producers[\"associatedTo\"].apply(mongoIdToId)\n",
    "producers.head()"
   ]
  },
  {
   "cell_type": "code",
   "execution_count": 35,
   "id": "2547499c",
   "metadata": {},
   "outputs": [
    {
     "data": {
      "text/html": [
       "<div>\n",
       "<style scoped>\n",
       "    .dataframe tbody tr th:only-of-type {\n",
       "        vertical-align: middle;\n",
       "    }\n",
       "\n",
       "    .dataframe tbody tr th {\n",
       "        vertical-align: top;\n",
       "    }\n",
       "\n",
       "    .dataframe thead th {\n",
       "        text-align: right;\n",
       "    }\n",
       "</style>\n",
       "<table border=\"1\" class=\"dataframe\">\n",
       "  <thead>\n",
       "    <tr style=\"text-align: right;\">\n",
       "      <th></th>\n",
       "      <th>geop_organization_id</th>\n",
       "      <th>geop_organization_name</th>\n",
       "    </tr>\n",
       "  </thead>\n",
       "  <tbody>\n",
       "    <tr>\n",
       "      <th>0</th>\n",
       "      <td>534fff68a3a7292c64a77d8d</td>\n",
       "      <td>Département de Saône-et-Loire</td>\n",
       "    </tr>\n",
       "    <tr>\n",
       "      <th>1</th>\n",
       "      <td>534fff68a3a7292c64a77d8d</td>\n",
       "      <td>Département de Saône-et-Loire (71)</td>\n",
       "    </tr>\n",
       "    <tr>\n",
       "      <th>2</th>\n",
       "      <td>534fff6aa3a7292c64a77d96</td>\n",
       "      <td>Région Hauts-de-France</td>\n",
       "    </tr>\n",
       "    <tr>\n",
       "      <th>3</th>\n",
       "      <td>534fff6ba3a7292c64a77da1</td>\n",
       "      <td>ASPA</td>\n",
       "    </tr>\n",
       "    <tr>\n",
       "      <th>4</th>\n",
       "      <td>534fff6ba3a7292c64a77da1</td>\n",
       "      <td>CConseil Départemental du Bas-Rhin (CD67)</td>\n",
       "    </tr>\n",
       "  </tbody>\n",
       "</table>\n",
       "</div>"
      ],
      "text/plain": [
       "       geop_organization_id                     geop_organization_name\n",
       "0  534fff68a3a7292c64a77d8d  Département de Saône-et-Loire            \n",
       "1  534fff68a3a7292c64a77d8d  Département de Saône-et-Loire (71)       \n",
       "2  534fff6aa3a7292c64a77d96  Région Hauts-de-France                   \n",
       "3  534fff6ba3a7292c64a77da1  ASPA                                     \n",
       "4  534fff6ba3a7292c64a77da1  CConseil Départemental du Bas-Rhin (CD67)"
      ]
     },
     "execution_count": 35,
     "metadata": {},
     "output_type": "execute_result"
    }
   ],
   "source": [
    "organizations = getDataframe('organizations.json')\n",
    "organizations[\"geop_organization_id\"] = organizations[\"_id\"].apply(mongoIdToId)\n",
    "organizations = organizations.merge(producers, left_on=\"geop_organization_id\", right_on=\"organization_id\")\n",
    "organizations[\"geop_organization_name\"] = organizations[\"_id_y\"]\n",
    "organizations = organizations[[\"geop_organization_id\", \"geop_organization_name\"]]\n",
    "organizations.head()"
   ]
  },
  {
   "cell_type": "code",
   "execution_count": 36,
   "id": "da3c5195",
   "metadata": {},
   "outputs": [],
   "source": [
    "organizations['dgv_organization_id'] = organizations['geop_organization_id']"
   ]
  },
  {
   "cell_type": "code",
   "execution_count": 37,
   "id": "8690af4c",
   "metadata": {},
   "outputs": [],
   "source": [
    "dgv_catalog_orgas = pd.read_csv('https://www.data.gouv.fr/fr/datasets/r/b7bbfedc-2448-4135-a6c7-104548d396e7',sep=';')"
   ]
  },
  {
   "cell_type": "code",
   "execution_count": 38,
   "id": "877d55b4",
   "metadata": {},
   "outputs": [
    {
     "data": {
      "text/html": [
       "<div>\n",
       "<style scoped>\n",
       "    .dataframe tbody tr th:only-of-type {\n",
       "        vertical-align: middle;\n",
       "    }\n",
       "\n",
       "    .dataframe tbody tr th {\n",
       "        vertical-align: top;\n",
       "    }\n",
       "\n",
       "    .dataframe thead th {\n",
       "        text-align: right;\n",
       "    }\n",
       "</style>\n",
       "<table border=\"1\" class=\"dataframe\">\n",
       "  <thead>\n",
       "    <tr style=\"text-align: right;\">\n",
       "      <th></th>\n",
       "      <th>id</th>\n",
       "      <th>name</th>\n",
       "      <th>metric.datasets</th>\n",
       "    </tr>\n",
       "  </thead>\n",
       "  <tbody>\n",
       "    <tr>\n",
       "      <th>0</th>\n",
       "      <td>6205247a142c650419d4733e</td>\n",
       "      <td>Saint-Julia</td>\n",
       "      <td>0</td>\n",
       "    </tr>\n",
       "    <tr>\n",
       "      <th>1</th>\n",
       "      <td>6204e8275f491f6083e9e3ea</td>\n",
       "      <td>Société d'Enlèvement et de NETtoyage</td>\n",
       "      <td>0</td>\n",
       "    </tr>\n",
       "    <tr>\n",
       "      <th>2</th>\n",
       "      <td>6204e75f281e0f8644faf936</td>\n",
       "      <td>Société d'Enlèvement et de NETtoyage</td>\n",
       "      <td>0</td>\n",
       "    </tr>\n",
       "    <tr>\n",
       "      <th>3</th>\n",
       "      <td>6204e6ac5f491f6083e9e3e9</td>\n",
       "      <td>Société d'Enlèvement et de NETtoyage</td>\n",
       "      <td>0</td>\n",
       "    </tr>\n",
       "    <tr>\n",
       "      <th>4</th>\n",
       "      <td>6204e66aea1bca8b549b16eb</td>\n",
       "      <td>SNC PERFOTEL OCEANIA ST GREGOIRE</td>\n",
       "      <td>0</td>\n",
       "    </tr>\n",
       "  </tbody>\n",
       "</table>\n",
       "</div>"
      ],
      "text/plain": [
       "                         id                                  name  \\\n",
       "0  6205247a142c650419d4733e  Saint-Julia                            \n",
       "1  6204e8275f491f6083e9e3ea  Société d'Enlèvement et de NETtoyage   \n",
       "2  6204e75f281e0f8644faf936  Société d'Enlèvement et de NETtoyage   \n",
       "3  6204e6ac5f491f6083e9e3e9  Société d'Enlèvement et de NETtoyage   \n",
       "4  6204e66aea1bca8b549b16eb  SNC PERFOTEL OCEANIA ST GREGOIRE       \n",
       "\n",
       "   metric.datasets  \n",
       "0  0                \n",
       "1  0                \n",
       "2  0                \n",
       "3  0                \n",
       "4  0                "
      ]
     },
     "execution_count": 38,
     "metadata": {},
     "output_type": "execute_result"
    }
   ],
   "source": [
    "dgv_catalog_orgas = dgv_catalog_orgas[['id','name', 'metric.datasets']]\n",
    "dgv_catalog_orgas.head()"
   ]
  },
  {
   "cell_type": "code",
   "execution_count": 39,
   "id": "8a18c981",
   "metadata": {},
   "outputs": [],
   "source": [
    "dgv_catalog_orgas = dgv_catalog_orgas.rename(columns={\n",
    "    'id': 'dgv_organization_id',\n",
    "    'name': 'dgv_organization_name', \n",
    "    'metric.datasets': 'dgv_nb_datasets',\n",
    "})"
   ]
  },
  {
   "cell_type": "code",
   "execution_count": 40,
   "id": "e642535f",
   "metadata": {},
   "outputs": [],
   "source": [
    "# no duplicates\n",
    "assert organizations[organizations.duplicated()].empty\n",
    "assert dgv_catalog_orgas[dgv_catalog_orgas.duplicated()].empty"
   ]
  },
  {
   "cell_type": "code",
   "execution_count": 41,
   "id": "b959798a",
   "metadata": {},
   "outputs": [
    {
     "data": {
      "text/plain": [
       "Index(['geop_organization_id', 'geop_organization_name',\n",
       "       'dgv_organization_id'],\n",
       "      dtype='object')"
      ]
     },
     "execution_count": 41,
     "metadata": {},
     "output_type": "execute_result"
    }
   ],
   "source": [
    "organizations.columns"
   ]
  },
  {
   "cell_type": "code",
   "execution_count": 42,
   "id": "608fd072",
   "metadata": {},
   "outputs": [
    {
     "data": {
      "text/plain": [
       "3239"
      ]
     },
     "execution_count": 42,
     "metadata": {},
     "output_type": "execute_result"
    }
   ],
   "source": [
    "dgv_catalog_orgas.dgv_organization_id.nunique()"
   ]
  },
  {
   "cell_type": "code",
   "execution_count": 43,
   "id": "5db0a017",
   "metadata": {},
   "outputs": [
    {
     "data": {
      "text/html": [
       "<div>\n",
       "<style scoped>\n",
       "    .dataframe tbody tr th:only-of-type {\n",
       "        vertical-align: middle;\n",
       "    }\n",
       "\n",
       "    .dataframe tbody tr th {\n",
       "        vertical-align: top;\n",
       "    }\n",
       "\n",
       "    .dataframe thead th {\n",
       "        text-align: right;\n",
       "    }\n",
       "</style>\n",
       "<table border=\"1\" class=\"dataframe\">\n",
       "  <thead>\n",
       "    <tr style=\"text-align: right;\">\n",
       "      <th></th>\n",
       "      <th>dgv_organization_id</th>\n",
       "      <th>dgv_organization_name</th>\n",
       "      <th>dgv_nb_datasets</th>\n",
       "      <th>geop_organization_id</th>\n",
       "      <th>geop_organization_name</th>\n",
       "    </tr>\n",
       "  </thead>\n",
       "  <tbody>\n",
       "    <tr>\n",
       "      <th>0</th>\n",
       "      <td>6205247a142c650419d4733e</td>\n",
       "      <td>Saint-Julia</td>\n",
       "      <td>0.0</td>\n",
       "      <td>NaN</td>\n",
       "      <td>NaN</td>\n",
       "    </tr>\n",
       "    <tr>\n",
       "      <th>1</th>\n",
       "      <td>6204e8275f491f6083e9e3ea</td>\n",
       "      <td>Société d'Enlèvement et de NETtoyage</td>\n",
       "      <td>0.0</td>\n",
       "      <td>NaN</td>\n",
       "      <td>NaN</td>\n",
       "    </tr>\n",
       "    <tr>\n",
       "      <th>2</th>\n",
       "      <td>6204e75f281e0f8644faf936</td>\n",
       "      <td>Société d'Enlèvement et de NETtoyage</td>\n",
       "      <td>0.0</td>\n",
       "      <td>NaN</td>\n",
       "      <td>NaN</td>\n",
       "    </tr>\n",
       "    <tr>\n",
       "      <th>3</th>\n",
       "      <td>6204e6ac5f491f6083e9e3e9</td>\n",
       "      <td>Société d'Enlèvement et de NETtoyage</td>\n",
       "      <td>0.0</td>\n",
       "      <td>NaN</td>\n",
       "      <td>NaN</td>\n",
       "    </tr>\n",
       "    <tr>\n",
       "      <th>4</th>\n",
       "      <td>6204e66aea1bca8b549b16eb</td>\n",
       "      <td>SNC PERFOTEL OCEANIA ST GREGOIRE</td>\n",
       "      <td>0.0</td>\n",
       "      <td>NaN</td>\n",
       "      <td>NaN</td>\n",
       "    </tr>\n",
       "  </tbody>\n",
       "</table>\n",
       "</div>"
      ],
      "text/plain": [
       "        dgv_organization_id                 dgv_organization_name  \\\n",
       "0  6205247a142c650419d4733e  Saint-Julia                            \n",
       "1  6204e8275f491f6083e9e3ea  Société d'Enlèvement et de NETtoyage   \n",
       "2  6204e75f281e0f8644faf936  Société d'Enlèvement et de NETtoyage   \n",
       "3  6204e6ac5f491f6083e9e3e9  Société d'Enlèvement et de NETtoyage   \n",
       "4  6204e66aea1bca8b549b16eb  SNC PERFOTEL OCEANIA ST GREGOIRE       \n",
       "\n",
       "   dgv_nb_datasets geop_organization_id geop_organization_name  \n",
       "0  0.0              NaN                  NaN                    \n",
       "1  0.0              NaN                  NaN                    \n",
       "2  0.0              NaN                  NaN                    \n",
       "3  0.0              NaN                  NaN                    \n",
       "4  0.0              NaN                  NaN                    "
      ]
     },
     "execution_count": 43,
     "metadata": {},
     "output_type": "execute_result"
    }
   ],
   "source": [
    "# outer merge to pivot on dgv orgas, not necessarily on geop orgs\n",
    "final_orgas = dgv_catalog_orgas.merge(organizations, on='dgv_organization_id', how='outer')\n",
    "assert final_orgas[final_orgas.duplicated()].empty\n",
    "final_orgas.head()"
   ]
  },
  {
   "cell_type": "code",
   "execution_count": 44,
   "id": "881c8c1b",
   "metadata": {},
   "outputs": [],
   "source": [
    "geoc = pd.read_excel('./data/Liste_catalogues_DCAT.xlsx')"
   ]
  },
  {
   "cell_type": "code",
   "execution_count": 45,
   "id": "ebf938ee",
   "metadata": {},
   "outputs": [
    {
     "data": {
      "text/html": [
       "<div>\n",
       "<style scoped>\n",
       "    .dataframe tbody tr th:only-of-type {\n",
       "        vertical-align: middle;\n",
       "    }\n",
       "\n",
       "    .dataframe tbody tr th {\n",
       "        vertical-align: top;\n",
       "    }\n",
       "\n",
       "    .dataframe thead th {\n",
       "        text-align: right;\n",
       "    }\n",
       "</style>\n",
       "<table border=\"1\" class=\"dataframe\">\n",
       "  <thead>\n",
       "    <tr style=\"text-align: right;\">\n",
       "      <th></th>\n",
       "      <th>geoc_organization_name</th>\n",
       "      <th>geoc_organization_uuid</th>\n",
       "      <th>geoc_organization_url</th>\n",
       "    </tr>\n",
       "  </thead>\n",
       "  <tbody>\n",
       "    <tr>\n",
       "      <th>0</th>\n",
       "      <td>Académie de Créteil</td>\n",
       "      <td>b0af64e401fc6549f263001cfc288db5</td>\n",
       "      <td>http://www.geocatalogue.fr/www/dcat/b0af64e401fc6549f263001cfc288db5/catalog.rdf</td>\n",
       "    </tr>\n",
       "    <tr>\n",
       "      <th>1</th>\n",
       "      <td>Académie de Montpellier</td>\n",
       "      <td>5be9cd826e5938bb5e8dd269bf57180d</td>\n",
       "      <td>http://www.geocatalogue.fr/www/dcat/5be9cd826e5938bb5e8dd269bf57180d/catalog.rdf</td>\n",
       "    </tr>\n",
       "    <tr>\n",
       "      <th>2</th>\n",
       "      <td>Administration centrale MEEM-MLHD (MEEM)</td>\n",
       "      <td>e5982bd5379515aecfa45fa3abea539b</td>\n",
       "      <td>http://www.geocatalogue.fr/www/dcat/e5982bd5379515aecfa45fa3abea539b/catalog.rdf</td>\n",
       "    </tr>\n",
       "    <tr>\n",
       "      <th>3</th>\n",
       "      <td>Aerodata</td>\n",
       "      <td>8ec73ccd0e37440d31827b7445c2d050</td>\n",
       "      <td>http://www.geocatalogue.fr/www/dcat/8ec73ccd0e37440d31827b7445c2d050/catalog.rdf</td>\n",
       "    </tr>\n",
       "    <tr>\n",
       "      <th>4</th>\n",
       "      <td>Aero Photo Europe Investigation (APEI)</td>\n",
       "      <td>5cea64971edfdaf4effe0f33d834e896</td>\n",
       "      <td>http://www.geocatalogue.fr/www/dcat/5cea64971edfdaf4effe0f33d834e896/catalog.rdf</td>\n",
       "    </tr>\n",
       "  </tbody>\n",
       "</table>\n",
       "</div>"
      ],
      "text/plain": [
       "                     geoc_organization_name            geoc_organization_uuid  \\\n",
       "0  Académie de Créteil                       b0af64e401fc6549f263001cfc288db5   \n",
       "1  Académie de Montpellier                   5be9cd826e5938bb5e8dd269bf57180d   \n",
       "2  Administration centrale MEEM-MLHD (MEEM)  e5982bd5379515aecfa45fa3abea539b   \n",
       "3  Aerodata                                  8ec73ccd0e37440d31827b7445c2d050   \n",
       "4  Aero Photo Europe Investigation (APEI)    5cea64971edfdaf4effe0f33d834e896   \n",
       "\n",
       "                                                              geoc_organization_url  \n",
       "0  http://www.geocatalogue.fr/www/dcat/b0af64e401fc6549f263001cfc288db5/catalog.rdf  \n",
       "1  http://www.geocatalogue.fr/www/dcat/5be9cd826e5938bb5e8dd269bf57180d/catalog.rdf  \n",
       "2  http://www.geocatalogue.fr/www/dcat/e5982bd5379515aecfa45fa3abea539b/catalog.rdf  \n",
       "3  http://www.geocatalogue.fr/www/dcat/8ec73ccd0e37440d31827b7445c2d050/catalog.rdf  \n",
       "4  http://www.geocatalogue.fr/www/dcat/5cea64971edfdaf4effe0f33d834e896/catalog.rdf  "
      ]
     },
     "execution_count": 45,
     "metadata": {},
     "output_type": "execute_result"
    }
   ],
   "source": [
    "geoc = geoc.rename(columns={\n",
    "    'Producteurs': 'geoc_organization_name', \n",
    "    'uuid': 'geoc_organization_uuid', \n",
    "    'url de moissonnage ': 'geoc_organization_url'\n",
    "})\n",
    "geoc.head()"
   ]
  },
  {
   "cell_type": "code",
   "execution_count": 46,
   "id": "9db7615e",
   "metadata": {},
   "outputs": [],
   "source": [
    "def removeCommonWords(org):\n",
    "    org = str(org)\n",
    "    org = org.replace(' de ',' ').replace(' un ',' ').replace(' à ','').replace(' l\\'',' ').replace(' d\\'', ' ')\n",
    "    org = org.replace(' des ',' ').replace(' pour ', ' ').replace(' les ', ' ').replace('(','').replace(')','')\n",
    "    org = org.replace(' - ',' ').replace(',','').replace(' du ', ' ').replace('à','a').replace('é','e')\n",
    "    org = org.replace('ê','e').replace('è','e').replace('\\'',' ')\n",
    "    return org.lower()"
   ]
  },
  {
   "cell_type": "code",
   "execution_count": 47,
   "id": "f92f900a",
   "metadata": {},
   "outputs": [],
   "source": [
    "geoc[\"geoc_slug\"] = geoc[\"geoc_organization_name\"].apply(removeCommonWords)\n",
    "final_orgas[\"geop_slug\"] = final_orgas[\"geop_organization_name\"].apply(removeCommonWords)\n",
    "final_orgas[\"dgv_slug\"] = final_orgas[\"dgv_organization_name\"].apply(removeCommonWords)"
   ]
  },
  {
   "cell_type": "code",
   "execution_count": 48,
   "id": "b52d3ee4",
   "metadata": {
    "scrolled": true
   },
   "outputs": [
    {
     "data": {
      "text/plain": [
       "(109,)"
      ]
     },
     "execution_count": 48,
     "metadata": {},
     "output_type": "execute_result"
    }
   ],
   "source": [
    "df_dgv_match = final_orgas.merge(geoc, left_on=\"dgv_slug\", right_on=\"geoc_slug\")\n",
    "df_dgv_match[\"geoc_organization_url\"].drop_duplicates().shape"
   ]
  },
  {
   "cell_type": "code",
   "execution_count": 49,
   "id": "cd994cc7",
   "metadata": {},
   "outputs": [
    {
     "data": {
      "text/plain": [
       "(36,)"
      ]
     },
     "execution_count": 49,
     "metadata": {},
     "output_type": "execute_result"
    }
   ],
   "source": [
    "df_geop_match = final_orgas.merge(geoc, left_on=\"geop_slug\", right_on=\"geoc_slug\")\n",
    "df_geop_match[\"geoc_organization_url\"].drop_duplicates().shape"
   ]
  },
  {
   "cell_type": "code",
   "execution_count": 50,
   "id": "7029516a",
   "metadata": {},
   "outputs": [
    {
     "data": {
      "text/plain": [
       "(132,)"
      ]
     },
     "execution_count": 50,
     "metadata": {},
     "output_type": "execute_result"
    }
   ],
   "source": [
    "df_final = df_dgv_match.merge(df_geop_match, how=\"outer\")\n",
    "df_final[df_final['geoc_organization_uuid'].notna()][\"geoc_organization_url\"].drop_duplicates().shape"
   ]
  },
  {
   "cell_type": "code",
   "execution_count": 51,
   "id": "c734fc9c",
   "metadata": {},
   "outputs": [
    {
     "data": {
      "text/html": [
       "<div>\n",
       "<style scoped>\n",
       "    .dataframe tbody tr th:only-of-type {\n",
       "        vertical-align: middle;\n",
       "    }\n",
       "\n",
       "    .dataframe tbody tr th {\n",
       "        vertical-align: top;\n",
       "    }\n",
       "\n",
       "    .dataframe thead th {\n",
       "        text-align: right;\n",
       "    }\n",
       "</style>\n",
       "<table border=\"1\" class=\"dataframe\">\n",
       "  <thead>\n",
       "    <tr style=\"text-align: right;\">\n",
       "      <th></th>\n",
       "      <th>dgv_organization_id</th>\n",
       "      <th>dgv_organization_name</th>\n",
       "      <th>dgv_nb_datasets</th>\n",
       "      <th>geop_organization_id</th>\n",
       "      <th>geop_organization_name</th>\n",
       "      <th>geop_slug</th>\n",
       "      <th>dgv_slug</th>\n",
       "      <th>geoc_organization_name</th>\n",
       "      <th>geoc_organization_uuid</th>\n",
       "      <th>geoc_organization_url</th>\n",
       "      <th>geoc_slug</th>\n",
       "    </tr>\n",
       "  </thead>\n",
       "  <tbody>\n",
       "    <tr>\n",
       "      <th>0</th>\n",
       "      <td>61fc10b5285e11c883d018bd</td>\n",
       "      <td>MAIRIE LES TROIS DOMAINES</td>\n",
       "      <td>0.0</td>\n",
       "      <td>NaN</td>\n",
       "      <td>NaN</td>\n",
       "      <td>nan</td>\n",
       "      <td>mairie les trois domaines</td>\n",
       "      <td>Mairie de Les Trois domaines</td>\n",
       "      <td>6fc21c45008161fcadd99a9c53e0351f</td>\n",
       "      <td>http://www.geocatalogue.fr/www/dcat/6fc21c45008161fcadd99a9c53e0351f/catalog.rdf</td>\n",
       "      <td>mairie les trois domaines</td>\n",
       "    </tr>\n",
       "    <tr>\n",
       "      <th>1</th>\n",
       "      <td>61b0b0673c11d387da1df057</td>\n",
       "      <td>Pontivy Communaute</td>\n",
       "      <td>0.0</td>\n",
       "      <td>NaN</td>\n",
       "      <td>NaN</td>\n",
       "      <td>nan</td>\n",
       "      <td>pontivy communaute</td>\n",
       "      <td>Pontivy Communauté</td>\n",
       "      <td>eac49cc9bdb321a31f6150862adc28b7</td>\n",
       "      <td>http://www.geocatalogue.fr/www/dcat/eac49cc9bdb321a31f6150862adc28b7/catalog.rdf</td>\n",
       "      <td>pontivy communaute</td>\n",
       "    </tr>\n",
       "    <tr>\n",
       "      <th>2</th>\n",
       "      <td>61484aaaffc949c8b4971434</td>\n",
       "      <td>Préfecture de la région Hauts-de-France</td>\n",
       "      <td>1.0</td>\n",
       "      <td>NaN</td>\n",
       "      <td>NaN</td>\n",
       "      <td>nan</td>\n",
       "      <td>prefecture la region hauts-de-france</td>\n",
       "      <td>Préfecture de la région Hauts-de-France</td>\n",
       "      <td>0709d43ca86491e10b8d95b9ae7ad916</td>\n",
       "      <td>http://www.geocatalogue.fr/www/dcat/0709d43ca86491e10b8d95b9ae7ad916/catalog.rdf</td>\n",
       "      <td>prefecture la region hauts-de-france</td>\n",
       "    </tr>\n",
       "    <tr>\n",
       "      <th>3</th>\n",
       "      <td>61322119e8f2ff4e8225c747</td>\n",
       "      <td>Préfecture des Landes</td>\n",
       "      <td>0.0</td>\n",
       "      <td>NaN</td>\n",
       "      <td>NaN</td>\n",
       "      <td>nan</td>\n",
       "      <td>prefecture landes</td>\n",
       "      <td>Préfecture des Landes</td>\n",
       "      <td>81bbfc2b3e0c3589fb5f868f157f0f65</td>\n",
       "      <td>http://www.geocatalogue.fr/www/dcat/81bbfc2b3e0c3589fb5f868f157f0f65/catalog.rdf</td>\n",
       "      <td>prefecture landes</td>\n",
       "    </tr>\n",
       "    <tr>\n",
       "      <th>4</th>\n",
       "      <td>60ba2f3eb3735a080f1fbda7</td>\n",
       "      <td>Communauté de Communes de Haute Cornouaille</td>\n",
       "      <td>15.0</td>\n",
       "      <td>NaN</td>\n",
       "      <td>NaN</td>\n",
       "      <td>nan</td>\n",
       "      <td>communaute communes haute cornouaille</td>\n",
       "      <td>Communauté de Communes de Haute Cornouaille</td>\n",
       "      <td>1f9c319f589bbea6f8bbf65bcf6be730</td>\n",
       "      <td>http://www.geocatalogue.fr/www/dcat/1f9c319f589bbea6f8bbf65bcf6be730/catalog.rdf</td>\n",
       "      <td>communaute communes haute cornouaille</td>\n",
       "    </tr>\n",
       "  </tbody>\n",
       "</table>\n",
       "</div>"
      ],
      "text/plain": [
       "        dgv_organization_id                        dgv_organization_name  \\\n",
       "0  61fc10b5285e11c883d018bd  MAIRIE LES TROIS DOMAINES                     \n",
       "1  61b0b0673c11d387da1df057  Pontivy Communaute                            \n",
       "2  61484aaaffc949c8b4971434  Préfecture de la région Hauts-de-France       \n",
       "3  61322119e8f2ff4e8225c747  Préfecture des Landes                         \n",
       "4  60ba2f3eb3735a080f1fbda7  Communauté de Communes de Haute Cornouaille   \n",
       "\n",
       "   dgv_nb_datasets geop_organization_id geop_organization_name geop_slug  \\\n",
       "0  0.0              NaN                  NaN                    nan        \n",
       "1  0.0              NaN                  NaN                    nan        \n",
       "2  1.0              NaN                  NaN                    nan        \n",
       "3  0.0              NaN                  NaN                    nan        \n",
       "4  15.0             NaN                  NaN                    nan        \n",
       "\n",
       "                                dgv_slug  \\\n",
       "0  mairie les trois domaines               \n",
       "1  pontivy communaute                      \n",
       "2  prefecture la region hauts-de-france    \n",
       "3  prefecture landes                       \n",
       "4  communaute communes haute cornouaille   \n",
       "\n",
       "                        geoc_organization_name  \\\n",
       "0  Mairie de Les Trois domaines                  \n",
       "1  Pontivy Communauté                            \n",
       "2  Préfecture de la région Hauts-de-France       \n",
       "3  Préfecture des Landes                         \n",
       "4  Communauté de Communes de Haute Cornouaille   \n",
       "\n",
       "             geoc_organization_uuid  \\\n",
       "0  6fc21c45008161fcadd99a9c53e0351f   \n",
       "1  eac49cc9bdb321a31f6150862adc28b7   \n",
       "2  0709d43ca86491e10b8d95b9ae7ad916   \n",
       "3  81bbfc2b3e0c3589fb5f868f157f0f65   \n",
       "4  1f9c319f589bbea6f8bbf65bcf6be730   \n",
       "\n",
       "                                                              geoc_organization_url  \\\n",
       "0  http://www.geocatalogue.fr/www/dcat/6fc21c45008161fcadd99a9c53e0351f/catalog.rdf   \n",
       "1  http://www.geocatalogue.fr/www/dcat/eac49cc9bdb321a31f6150862adc28b7/catalog.rdf   \n",
       "2  http://www.geocatalogue.fr/www/dcat/0709d43ca86491e10b8d95b9ae7ad916/catalog.rdf   \n",
       "3  http://www.geocatalogue.fr/www/dcat/81bbfc2b3e0c3589fb5f868f157f0f65/catalog.rdf   \n",
       "4  http://www.geocatalogue.fr/www/dcat/1f9c319f589bbea6f8bbf65bcf6be730/catalog.rdf   \n",
       "\n",
       "                               geoc_slug  \n",
       "0  mairie les trois domaines              \n",
       "1  pontivy communaute                     \n",
       "2  prefecture la region hauts-de-france   \n",
       "3  prefecture landes                      \n",
       "4  communaute communes haute cornouaille  "
      ]
     },
     "execution_count": 51,
     "metadata": {},
     "output_type": "execute_result"
    }
   ],
   "source": [
    "df_final[df_final['geoc_organization_uuid'].notna()].head()"
   ]
  },
  {
   "cell_type": "code",
   "execution_count": 69,
   "id": "c4b2f072",
   "metadata": {},
   "outputs": [],
   "source": [
    "df_final.to_csv('mapping_geop_dgv_geoc-pivot-datagouv.csv',index=False)"
   ]
  },
  {
   "cell_type": "code",
   "execution_count": 64,
   "id": "037121c5",
   "metadata": {},
   "outputs": [
    {
     "data": {
      "text/plain": [
       "(188, 11)"
      ]
     },
     "execution_count": 64,
     "metadata": {},
     "output_type": "execute_result"
    }
   ],
   "source": [
    "df_final.shape"
   ]
  },
  {
   "cell_type": "code",
   "execution_count": 60,
   "id": "ec42a1f2",
   "metadata": {},
   "outputs": [],
   "source": [
    "from collections import defaultdict\n",
    "\n",
    "url = \"https://www.data.gouv.fr/api/1\"\n",
    "auth = {\n",
    "    \"x-api-key\": os.getenv(\"DATAGOUV_TOKEN\")\n",
    "}\n",
    "\n",
    "def get_org_data(org_id):\n",
    "    org_data = defaultdict(list)\n",
    "    org_data[\"id\"] = org_id\n",
    "    r = requests.get(f\"{url}/organizations/{org_id}/\")\n",
    "    data = r.json()\n",
    "\n",
    "    # members\n",
    "    for m in data[\"members\"]:\n",
    "        r = requests.get(m[\"user\"][\"uri\"], headers=auth)\n",
    "        mdata = r.json()\n",
    "        org_data[m[\"role\"]].append(f\"{mdata['first_name']} {mdata['last_name']} <{mdata['email']}>\")\n",
    "    \n",
    "    org_data[\"admin\"] = \", \".join(org_data[\"admin\"])\n",
    "    org_data[\"editor\"] = \", \".join(org_data[\"editor\"])\n",
    "\n",
    "    # datasets\n",
    "    r = requests.get(f\"{url}/organizations/{org_id}/datasets/?page_size=1000\")\n",
    "    datasets = r.json()\n",
    "    assert datasets[\"total\"] == len(datasets[\"data\"])\n",
    "    org_data[\"nb_datasets\"] = datasets[\"total\"]\n",
    "    org_data[\"nb_datasets_geop\"] = len([d[\"id\"] for d in datasets[\"data\"] if \"geop:dataset_id\" in d[\"extras\"]])\n",
    "    org_data[\"last_dataset_modified_date\"] = max([d[\"last_modified\"] for d in datasets[\"data\"]]) if datasets[\"data\"] else None\n",
    "        \n",
    "    return dict(org_data)"
   ]
  },
  {
   "cell_type": "code",
   "execution_count": 61,
   "id": "74ac7553",
   "metadata": {},
   "outputs": [],
   "source": [
    "metadata = []\n",
    "for org_id in df_final[\"dgv_organization_id\"].drop_duplicates():\n",
    "    metadata.append(get_org_data(org_id))"
   ]
  },
  {
   "cell_type": "code",
   "execution_count": null,
   "id": "69aaab1d",
   "metadata": {},
   "outputs": [],
   "source": [
    "del df_final[\"dgv_nb_datasets\"]"
   ]
  },
  {
   "cell_type": "code",
   "execution_count": 70,
   "id": "9a501ad7",
   "metadata": {},
   "outputs": [],
   "source": [
    "meta_df = pd.DataFrame(metadata)\n",
    "df_meta = df_final.merge(meta_df, right_on=\"id\", left_on=\"dgv_organization_id\")"
   ]
  },
  {
   "cell_type": "code",
   "execution_count": 71,
   "id": "0786c246",
   "metadata": {},
   "outputs": [],
   "source": [
    "df_meta.to_csv('mapping_geop_dgv_geoc-pivot-datagouv_w_metadata.csv',index=False)"
   ]
  },
  {
   "cell_type": "code",
   "execution_count": 26,
   "id": "15d15fa5",
   "metadata": {},
   "outputs": [],
   "source": [
    "# TODO:\n",
    "# - [x] add nb of datasets\n",
    "# - [x] add nb of geop datasets\n",
    "# - [x] add admin contacts\n",
    "# - [x] add members contacts\n",
    "# - [x] last modified dataset date\n",
    "# - [x] match w/o joining on geop_organizations (dgv_organizations)"
   ]
  },
  {
   "cell_type": "code",
   "execution_count": null,
   "id": "33980898",
   "metadata": {},
   "outputs": [],
   "source": []
  }
 ],
 "metadata": {
  "kernelspec": {
   "display_name": "Python 3 (ipykernel)",
   "language": "python",
   "name": "python3"
  },
  "language_info": {
   "codemirror_mode": {
    "name": "ipython",
    "version": 3
   },
   "file_extension": ".py",
   "mimetype": "text/x-python",
   "name": "python",
   "nbconvert_exporter": "python",
   "pygments_lexer": "ipython3",
   "version": "3.9.10"
  }
 },
 "nbformat": 4,
 "nbformat_minor": 5
}
