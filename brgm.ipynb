{
 "cells": [
  {
   "cell_type": "code",
   "execution_count": 1,
   "id": "889175e5",
   "metadata": {},
   "outputs": [
    {
     "name": "stderr",
     "output_type": "stream",
     "text": [
      "/var/folders/st/8jn3gyls0_nbxy23bw4zmds00000gn/T/ipykernel_95234/2703078761.py:6: FutureWarning: Passing a negative integer is deprecated in version 1.0 and will not be supported in future version. Instead, use None to not limit the column width.\n",
      "  pd.set_option('display.max_colwidth', -1)\n"
     ]
    }
   ],
   "source": [
    "import json\n",
    "import pandas as pd\n",
    "import requests\n",
    "pd.options.display.max_rows = 200\n",
    "pd.options.display.max_columns = 100\n",
    "pd.set_option('display.max_colwidth', -1)"
   ]
  },
  {
   "cell_type": "code",
   "execution_count": 2,
   "id": "9918edf5",
   "metadata": {},
   "outputs": [],
   "source": [
    "def getDataframe(filename):\n",
    "    arr = []\n",
    "    with open('./data/' + filename) as out:\n",
    "        for line in out:\n",
    "            j_content = json.loads(line)\n",
    "            arr.append(j_content)\n",
    "    df = pd.DataFrame(arr)\n",
    "    return df"
   ]
  },
  {
   "cell_type": "code",
   "execution_count": 19,
   "id": "d3d51962",
   "metadata": {},
   "outputs": [],
   "source": [
    "def mongoIdToId(value):\n",
    "    return dict(value)[\"$oid\"]"
   ]
  },
  {
   "cell_type": "code",
   "execution_count": 37,
   "id": "b983b083",
   "metadata": {},
   "outputs": [
    {
     "data": {
      "text/html": [
       "<div>\n",
       "<style scoped>\n",
       "    .dataframe tbody tr th:only-of-type {\n",
       "        vertical-align: middle;\n",
       "    }\n",
       "\n",
       "    .dataframe tbody tr th {\n",
       "        vertical-align: top;\n",
       "    }\n",
       "\n",
       "    .dataframe thead th {\n",
       "        text-align: right;\n",
       "    }\n",
       "</style>\n",
       "<table border=\"1\" class=\"dataframe\">\n",
       "  <thead>\n",
       "    <tr style=\"text-align: right;\">\n",
       "      <th></th>\n",
       "      <th>_id</th>\n",
       "      <th>associatedTo</th>\n",
       "      <th>__v</th>\n",
       "      <th>organization_id</th>\n",
       "    </tr>\n",
       "  </thead>\n",
       "  <tbody>\n",
       "    <tr>\n",
       "      <th>0</th>\n",
       "      <td>AFB</td>\n",
       "      <td>{'$oid': '534fffb2a3a7292c64a78123'}</td>\n",
       "      <td>0.0</td>\n",
       "      <td>534fffb2a3a7292c64a78123</td>\n",
       "    </tr>\n",
       "    <tr>\n",
       "      <th>1</th>\n",
       "      <td>AFB - DR Nouvelle-Aquitaine</td>\n",
       "      <td>{'$oid': '534fffb2a3a7292c64a78123'}</td>\n",
       "      <td>0.0</td>\n",
       "      <td>534fffb2a3a7292c64a78123</td>\n",
       "    </tr>\n",
       "    <tr>\n",
       "      <th>2</th>\n",
       "      <td>ALTOA</td>\n",
       "      <td>{'$oid': '580fb83a88ee38771813e4cb'}</td>\n",
       "      <td>NaN</td>\n",
       "      <td>580fb83a88ee38771813e4cb</td>\n",
       "    </tr>\n",
       "    <tr>\n",
       "      <th>3</th>\n",
       "      <td>ANFR</td>\n",
       "      <td>{'$oid': '54256fe588ee380af6717348'}</td>\n",
       "      <td>NaN</td>\n",
       "      <td>54256fe588ee380af6717348</td>\n",
       "    </tr>\n",
       "    <tr>\n",
       "      <th>4</th>\n",
       "      <td>ARS</td>\n",
       "      <td>{'$oid': '534fffb2a3a7292c64a78123'}</td>\n",
       "      <td>0.0</td>\n",
       "      <td>534fffb2a3a7292c64a78123</td>\n",
       "    </tr>\n",
       "  </tbody>\n",
       "</table>\n",
       "</div>"
      ],
      "text/plain": [
       "                           _id                          associatedTo  __v  \\\n",
       "0  AFB                          {'$oid': '534fffb2a3a7292c64a78123'}  0.0   \n",
       "1  AFB - DR Nouvelle-Aquitaine  {'$oid': '534fffb2a3a7292c64a78123'}  0.0   \n",
       "2  ALTOA                        {'$oid': '580fb83a88ee38771813e4cb'} NaN    \n",
       "3  ANFR                         {'$oid': '54256fe588ee380af6717348'} NaN    \n",
       "4  ARS                          {'$oid': '534fffb2a3a7292c64a78123'}  0.0   \n",
       "\n",
       "            organization_id  \n",
       "0  534fffb2a3a7292c64a78123  \n",
       "1  534fffb2a3a7292c64a78123  \n",
       "2  580fb83a88ee38771813e4cb  \n",
       "3  54256fe588ee380af6717348  \n",
       "4  534fffb2a3a7292c64a78123  "
      ]
     },
     "execution_count": 37,
     "metadata": {},
     "output_type": "execute_result"
    }
   ],
   "source": [
    "producers = getDataframe('producers.json')\n",
    "producers[\"organization_id\"] = producers[\"associatedTo\"].apply(mongoIdToId)\n",
    "producers.head()"
   ]
  },
  {
   "cell_type": "code",
   "execution_count": 44,
   "id": "2547499c",
   "metadata": {},
   "outputs": [
    {
     "data": {
      "text/html": [
       "<div>\n",
       "<style scoped>\n",
       "    .dataframe tbody tr th:only-of-type {\n",
       "        vertical-align: middle;\n",
       "    }\n",
       "\n",
       "    .dataframe tbody tr th {\n",
       "        vertical-align: top;\n",
       "    }\n",
       "\n",
       "    .dataframe thead th {\n",
       "        text-align: right;\n",
       "    }\n",
       "</style>\n",
       "<table border=\"1\" class=\"dataframe\">\n",
       "  <thead>\n",
       "    <tr style=\"text-align: right;\">\n",
       "      <th></th>\n",
       "      <th>geop_organization_id</th>\n",
       "      <th>geop_organization_name</th>\n",
       "    </tr>\n",
       "  </thead>\n",
       "  <tbody>\n",
       "    <tr>\n",
       "      <th>0</th>\n",
       "      <td>534fff68a3a7292c64a77d8d</td>\n",
       "      <td>Département de Saône-et-Loire</td>\n",
       "    </tr>\n",
       "    <tr>\n",
       "      <th>1</th>\n",
       "      <td>534fff68a3a7292c64a77d8d</td>\n",
       "      <td>Département de Saône-et-Loire (71)</td>\n",
       "    </tr>\n",
       "    <tr>\n",
       "      <th>2</th>\n",
       "      <td>534fff6aa3a7292c64a77d96</td>\n",
       "      <td>Région Hauts-de-France</td>\n",
       "    </tr>\n",
       "    <tr>\n",
       "      <th>3</th>\n",
       "      <td>534fff6ba3a7292c64a77da1</td>\n",
       "      <td>ASPA</td>\n",
       "    </tr>\n",
       "    <tr>\n",
       "      <th>4</th>\n",
       "      <td>534fff6ba3a7292c64a77da1</td>\n",
       "      <td>CConseil Départemental du Bas-Rhin (CD67)</td>\n",
       "    </tr>\n",
       "  </tbody>\n",
       "</table>\n",
       "</div>"
      ],
      "text/plain": [
       "       geop_organization_id                     geop_organization_name\n",
       "0  534fff68a3a7292c64a77d8d  Département de Saône-et-Loire            \n",
       "1  534fff68a3a7292c64a77d8d  Département de Saône-et-Loire (71)       \n",
       "2  534fff6aa3a7292c64a77d96  Région Hauts-de-France                   \n",
       "3  534fff6ba3a7292c64a77da1  ASPA                                     \n",
       "4  534fff6ba3a7292c64a77da1  CConseil Départemental du Bas-Rhin (CD67)"
      ]
     },
     "execution_count": 44,
     "metadata": {},
     "output_type": "execute_result"
    }
   ],
   "source": [
    "organizations = getDataframe('organizations.json')\n",
    "organizations[\"geop_organization_id\"] = organizations[\"_id\"].apply(mongoIdToId)\n",
    "organizations = organizations.merge(producers, left_on=\"geop_organization_id\", right_on=\"organization_id\")\n",
    "organizations[\"geop_organization_name\"] = organizations[\"_id_y\"]\n",
    "organizations = organizations[[\"geop_organization_id\", \"geop_organization_name\"]]\n",
    "organizations.head()"
   ]
  },
  {
   "cell_type": "code",
   "execution_count": 45,
   "id": "da3c5195",
   "metadata": {},
   "outputs": [],
   "source": [
    "organizations['dgv_organization_id'] = organizations['geop_organization_id']"
   ]
  },
  {
   "cell_type": "code",
   "execution_count": 46,
   "id": "8690af4c",
   "metadata": {},
   "outputs": [],
   "source": [
    "dgv_catalog_orgas = pd.read_csv('https://www.data.gouv.fr/fr/datasets/r/b7bbfedc-2448-4135-a6c7-104548d396e7',sep=';')"
   ]
  },
  {
   "cell_type": "code",
   "execution_count": 47,
   "id": "877d55b4",
   "metadata": {},
   "outputs": [],
   "source": [
    "dgv_catalog_orgas = dgv_catalog_orgas[['id','name']]"
   ]
  },
  {
   "cell_type": "code",
   "execution_count": 48,
   "id": "8a18c981",
   "metadata": {},
   "outputs": [],
   "source": [
    "dgv_catalog_orgas = dgv_catalog_orgas.rename(columns={'id': 'dgv_organization_id','name':'dgv_organization_name'})"
   ]
  },
  {
   "cell_type": "code",
   "execution_count": 49,
   "id": "e642535f",
   "metadata": {},
   "outputs": [],
   "source": [
    "organizations = organizations.drop_duplicates(keep=\"first\")\n",
    "dgv_catalog_orgas = dgv_catalog_orgas.drop_duplicates(keep=\"first\")"
   ]
  },
  {
   "cell_type": "code",
   "execution_count": 50,
   "id": "b959798a",
   "metadata": {},
   "outputs": [
    {
     "data": {
      "text/plain": [
       "Index(['geop_organization_id', 'geop_organization_name',\n",
       "       'dgv_organization_id'],\n",
       "      dtype='object')"
      ]
     },
     "execution_count": 50,
     "metadata": {},
     "output_type": "execute_result"
    }
   ],
   "source": [
    "organizations.columns"
   ]
  },
  {
   "cell_type": "code",
   "execution_count": 51,
   "id": "608fd072",
   "metadata": {},
   "outputs": [
    {
     "data": {
      "text/plain": [
       "3222"
      ]
     },
     "execution_count": 51,
     "metadata": {},
     "output_type": "execute_result"
    }
   ],
   "source": [
    "dgv_catalog_orgas.dgv_organization_id.nunique()"
   ]
  },
  {
   "cell_type": "code",
   "execution_count": 60,
   "id": "5db0a017",
   "metadata": {},
   "outputs": [
    {
     "data": {
      "text/html": [
       "<div>\n",
       "<style scoped>\n",
       "    .dataframe tbody tr th:only-of-type {\n",
       "        vertical-align: middle;\n",
       "    }\n",
       "\n",
       "    .dataframe tbody tr th {\n",
       "        vertical-align: top;\n",
       "    }\n",
       "\n",
       "    .dataframe thead th {\n",
       "        text-align: right;\n",
       "    }\n",
       "</style>\n",
       "<table border=\"1\" class=\"dataframe\">\n",
       "  <thead>\n",
       "    <tr style=\"text-align: right;\">\n",
       "      <th></th>\n",
       "      <th>dgv_organization_id</th>\n",
       "      <th>dgv_organization_name</th>\n",
       "      <th>geop_organization_id</th>\n",
       "      <th>geop_organization_name</th>\n",
       "    </tr>\n",
       "  </thead>\n",
       "  <tbody>\n",
       "    <tr>\n",
       "      <th>0</th>\n",
       "      <td>5e44026b8b4c416f93430c66</td>\n",
       "      <td>Colmar Agglomération</td>\n",
       "      <td>5e44026b8b4c416f93430c66</td>\n",
       "      <td>Colmar Agglomération</td>\n",
       "    </tr>\n",
       "    <tr>\n",
       "      <th>1</th>\n",
       "      <td>5d823fd98b4c411e38e820b4</td>\n",
       "      <td>Fluo Grand Est</td>\n",
       "      <td>5d823fd98b4c411e38e820b4</td>\n",
       "      <td>Communauté Urbaine du Grand Reims</td>\n",
       "    </tr>\n",
       "    <tr>\n",
       "      <th>2</th>\n",
       "      <td>5d823fd98b4c411e38e820b4</td>\n",
       "      <td>Fluo Grand Est</td>\n",
       "      <td>5d823fd98b4c411e38e820b4</td>\n",
       "      <td>Communauté d'Agglomération Ardenne Métropole</td>\n",
       "    </tr>\n",
       "    <tr>\n",
       "      <th>3</th>\n",
       "      <td>5d823fd98b4c411e38e820b4</td>\n",
       "      <td>Fluo Grand Est</td>\n",
       "      <td>5d823fd98b4c411e38e820b4</td>\n",
       "      <td>Communauté d'Agglomération Bar-le-Duc Sud Meuse</td>\n",
       "    </tr>\n",
       "    <tr>\n",
       "      <th>4</th>\n",
       "      <td>5d823fd98b4c411e38e820b4</td>\n",
       "      <td>Fluo Grand Est</td>\n",
       "      <td>5d823fd98b4c411e38e820b4</td>\n",
       "      <td>Communauté d'Agglomération Epernay Coteaux et Plaine de Champagne</td>\n",
       "    </tr>\n",
       "  </tbody>\n",
       "</table>\n",
       "</div>"
      ],
      "text/plain": [
       "        dgv_organization_id dgv_organization_name      geop_organization_id  \\\n",
       "0  5e44026b8b4c416f93430c66  Colmar Agglomération  5e44026b8b4c416f93430c66   \n",
       "1  5d823fd98b4c411e38e820b4  Fluo Grand Est        5d823fd98b4c411e38e820b4   \n",
       "2  5d823fd98b4c411e38e820b4  Fluo Grand Est        5d823fd98b4c411e38e820b4   \n",
       "3  5d823fd98b4c411e38e820b4  Fluo Grand Est        5d823fd98b4c411e38e820b4   \n",
       "4  5d823fd98b4c411e38e820b4  Fluo Grand Est        5d823fd98b4c411e38e820b4   \n",
       "\n",
       "                                              geop_organization_name  \n",
       "0  Colmar Agglomération                                               \n",
       "1  Communauté Urbaine du Grand Reims                                  \n",
       "2  Communauté d'Agglomération Ardenne Métropole                       \n",
       "3  Communauté d'Agglomération Bar-le-Duc Sud Meuse                    \n",
       "4  Communauté d'Agglomération Epernay Coteaux et Plaine de Champagne  "
      ]
     },
     "execution_count": 60,
     "metadata": {},
     "output_type": "execute_result"
    }
   ],
   "source": [
    "final_orgas = dgv_catalog_orgas.merge(organizations, on='dgv_organization_id', how='inner')\n",
    "final_orgas.head()"
   ]
  },
  {
   "cell_type": "code",
   "execution_count": 62,
   "id": "881c8c1b",
   "metadata": {},
   "outputs": [],
   "source": [
    "geoc = pd.read_excel('./data/Liste_catalogues_DCAT.xlsx')"
   ]
  },
  {
   "cell_type": "code",
   "execution_count": 63,
   "id": "ebf938ee",
   "metadata": {},
   "outputs": [],
   "source": [
    "geoc = geoc.rename(columns={\n",
    "    'Producteurs': 'geoc_organization_name', \n",
    "    'uuid': 'geoc_organization_uuid', \n",
    "    'url de moissonnage ': 'geoc_organization_url'\n",
    "})"
   ]
  },
  {
   "cell_type": "code",
   "execution_count": 65,
   "id": "45e8b306",
   "metadata": {},
   "outputs": [],
   "source": [
    "dff = final_orgas\n",
    "dff['geoc_organization_name'] = None\n",
    "dff['geoc_organization_uuid'] = None\n",
    "dff['geoc_organization_url'] = None"
   ]
  },
  {
   "cell_type": "code",
   "execution_count": 66,
   "id": "876ad59e",
   "metadata": {},
   "outputs": [],
   "source": [
    "def removeCommonWords(org):\n",
    "    org = str(org)\n",
    "    org = org.replace(' de ',' ').replace(' un ',' ').replace(' à ','').replace(' l\\'',' ').replace(' d\\'', ' ')\n",
    "    org = org.replace(' des ',' ').replace(' pour ', ' ').replace(' les ', ' ').replace('(','').replace(')','')\n",
    "    org = org.replace(' - ',' ').replace(',','').replace(' du ', ' ').replace('à','a').replace('é','e')\n",
    "    org = org.replace('ê','e').replace('è','e').replace('\\'',' ')\n",
    "    return org.lower()"
   ]
  },
  {
   "cell_type": "code",
   "execution_count": 71,
   "id": "3bca0afd",
   "metadata": {},
   "outputs": [],
   "source": [
    "arr = []\n",
    "cpt = 0\n",
    "for index, row in dff.iterrows():\n",
    "    for index2, row2 in geoc.iterrows():\n",
    "        if(row['geop_organization_name'] == row['geop_organization_name']):\n",
    "            if removeCommonWords(row['geop_organization_name']) in removeCommonWords(row2['geoc_organization_name']):\n",
    "                row['geoc_organization_name'] = row2['geoc_organization_name']\n",
    "                row['geoc_organization_uuid'] = row2['geoc_organization_uuid']\n",
    "                row['geoc_organization_url'] = row2['geoc_organization_url']\n",
    "            elif(row['dgv_organization_name'] == row['dgv_organization_name']):\n",
    "                if removeCommonWords(row['dgv_organization_name']) in removeCommonWords(row2['geoc_organization_name']):\n",
    "                    row['geoc_organization_name'] = row2['geoc_organization_name']\n",
    "                    row['geoc_organization_uuid'] = row2['geoc_organization_uuid']\n",
    "                    row['geoc_organization_url'] = row2['geoc_organization_url']\n",
    "\n",
    "    arr.append(row)"
   ]
  },
  {
   "cell_type": "code",
   "execution_count": 72,
   "id": "065d9a95",
   "metadata": {},
   "outputs": [],
   "source": [
    "df_final = pd.DataFrame(arr)"
   ]
  },
  {
   "cell_type": "code",
   "execution_count": 73,
   "id": "cdc48e8d",
   "metadata": {},
   "outputs": [
    {
     "data": {
      "text/plain": [
       "(551, 7)"
      ]
     },
     "execution_count": 73,
     "metadata": {},
     "output_type": "execute_result"
    }
   ],
   "source": [
    "df_final.shape"
   ]
  },
  {
   "cell_type": "code",
   "execution_count": 86,
   "id": "08af082b",
   "metadata": {},
   "outputs": [
    {
     "data": {
      "text/plain": [
       "(125,)"
      ]
     },
     "execution_count": 86,
     "metadata": {},
     "output_type": "execute_result"
    }
   ],
   "source": [
    "df_final[df_final['geoc_organization_uuid'].notna()][\"geoc_organization_url\"].drop_duplicates().shape"
   ]
  },
  {
   "cell_type": "code",
   "execution_count": 75,
   "id": "c4b2f072",
   "metadata": {},
   "outputs": [],
   "source": [
    "df_final.to_csv('mapping_geop_dgv_geoc.csv',index=False)"
   ]
  },
  {
   "cell_type": "code",
   "execution_count": null,
   "id": "15d15fa5",
   "metadata": {},
   "outputs": [],
   "source": []
  }
 ],
 "metadata": {
  "kernelspec": {
   "display_name": "Python 3 (ipykernel)",
   "language": "python",
   "name": "python3"
  },
  "language_info": {
   "codemirror_mode": {
    "name": "ipython",
    "version": 3
   },
   "file_extension": ".py",
   "mimetype": "text/x-python",
   "name": "python",
   "nbconvert_exporter": "python",
   "pygments_lexer": "ipython3",
   "version": "3.9.10"
  }
 },
 "nbformat": 4,
 "nbformat_minor": 5
}
